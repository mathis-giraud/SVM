{
 "cells": [
  {
   "cell_type": "markdown",
   "metadata": {},
   "source": [
    "## I) Packages et fonctions"
   ]
  },
  {
   "cell_type": "code",
   "execution_count": 2,
   "metadata": {},
   "outputs": [],
   "source": [
    "import os\n",
    "\n",
    "import pandas as pd\n",
    "import numpy as np\n",
    "import seaborn as sns\n",
    "\n",
    "import matplotlib.pyplot as plt\n",
    "\n",
    "#sklearn\n",
    "from sklearn.preprocessing import StandardScaler, PolynomialFeatures, OrdinalEncoder, OneHotEncoder\n",
    "from sklearn.metrics import accuracy_score, roc_curve, roc_auc_score, confusion_matrix, classification_report, ConfusionMatrixDisplay\n",
    "from sklearn.preprocessing import StandardScaler, OrdinalEncoder\n",
    "from sklearn.ensemble import RandomForestClassifier, BaggingClassifier, HistGradientBoostingClassifier, GradientBoostingClassifier\n",
    "from sklearn.model_selection import train_test_split, cross_val_score ,StratifiedKFold,learning_curve , GridSearchCV, RandomizedSearchCV\n",
    "from sklearn.tree import DecisionTreeClassifier, plot_tree\n",
    "from sklearn.neighbors import KNeighborsClassifier\n",
    "\n",
    "#Classifier\n",
    "from sklearn.svm import SVC, LinearSVC\n",
    "from sklearn.linear_model import SGDClassifier , LogisticRegression\n",
    "from sklearn_evaluation import plot\n",
    "\n",
    "#Web request\n",
    "import requests\n",
    "import io\n",
    "\n",
    "#Import tensorflow and keras\n",
    "import tensorflow as tf\n",
    "from tensorflow import keras\n",
    "from scikeras.wrappers import KerasClassifier, KerasRegressor\n",
    "\n",
    "from keras.models import Sequential\n",
    "from keras.layers import Dense"
   ]
  },
  {
   "cell_type": "code",
   "execution_count": 3,
   "metadata": {},
   "outputs": [],
   "source": [
    "def svm_f_importances(coef_svm , names):\n",
    "    '''\n",
    "    Cette fonction permet de visualiser l'importance de chaque variable pour le modèle SVM\n",
    "    Vous devez passer 2 arguments :\n",
    "\n",
    "    - coef_svm : Les coéfficients du modèle disponible après votre .fit()\n",
    "      On le récupère avec la commande suite  svc_fit.coef_[0]\n",
    "\n",
    "    - names : est le nom des features que vous avez utilisée.\n",
    "      ATTENTION à passer dans le même ordre que pour l'entrainement du modèle\n",
    "\n",
    "    '''\n",
    "    imp = coef_svm\n",
    "    imp,names = zip(*sorted(zip(imp,names)))\n",
    "    plt.barh(range(len(names)), imp, align='center')\n",
    "    plt.yticks(range(len(names)), names)\n",
    "    plt.show()\n",
    "\n",
    "#features_names = ['input1', 'input2']\n",
    "#svm = svm.SVC(kernel='linear')\n",
    "#svm.fit(X, Y)\n",
    "#f_importances(svm.coef_[0], features_names)"
   ]
  },
  {
   "cell_type": "code",
   "execution_count": 4,
   "metadata": {},
   "outputs": [],
   "source": [
    "#Fonction de visualisation de la qualité d'un modèle\n",
    "\n",
    "def evaluate_model(model, X_test, y_test):\n",
    "    # On prédit les valeurs de la variable cible pour les données de test\n",
    "    y_pred = model.predict(X_test)\n",
    "\n",
    "    # On calcule l'accuracy\n",
    "    accuracy = accuracy_score(y_test, y_pred)\n",
    "    print('Accuracy: %.2f' % accuracy)\n",
    "\n",
    "    # On calcule la matrice de confusion\n",
    "    ConfusionMatrixDisplay.from_estimator(model, X_test, y_test, cmap=\"Blues\")\n",
    "\n",
    "    # On calcule le rapport de classification\n",
    "\n",
    "    report = classification_report(y_test, y_pred)\n",
    "    print(report)\n",
    "    return None"
   ]
  },
  {
   "cell_type": "markdown",
   "metadata": {},
   "source": [
    "## II) Importation + nettoyage de la base"
   ]
  },
  {
   "cell_type": "markdown",
   "metadata": {},
   "source": [
    "## Données\n",
    "\n",
    "| Attribut        | Description                                                          |\n",
    "|-----------------|----------------------------------------------------------------------|\n",
    "| classes   | edible=e, poisonous=p |\n",
    "| cap-shape            | bell=b,conical=c,convex=x,flat=f, knobbed=k,sunken=s                          |\n",
    "| cap-surface     | fibrous=f,grooves=g,scaly=y,smooth=s      |\n",
    "| cap-color        | brown=n,buff=b,cinnamon=c,gray=g,green=r,pink=p,purple=u,red=e,white=w,yellow=y                   |\n",
    "| bruises              | bruises=t,no=f                 |\n",
    "| odor          | almond=a,anise=l,creosote=c,fishy=y,foul=f,musty=m,none=n,pungent=p,spicy=s                      |\n",
    "| gill-attachment      | attached=a,descending=d,free=f,notched=n                         |\n",
    "| gill-spacing           | close=c,crowded=w,distant=d               |\n",
    "| gill-size       | broad=b,narrow=n                         |\n",
    "| gill-color         | black=k,brown=n,buff=b,chocolate=h,gray=g, green=r,orange=o,pink=p,purple=u,red=e,white=w,yellow=y                       |\n",
    "| stalk-shape              | enlarging=e,tapering=t               |\n",
    "| stalk-root       | bulbous=b,club=c,cup=u,equal=e,rhizomorphs=z,rooted=r,missing=?                     |\n",
    "| stalk-surface-above-ring        | fibrous=f,scaly=y,silky=k,smooth=s                                     |\n",
    "| stalk-surface-below-ring             | fibrous=f,scaly=y,silky=k,smooth=s                          |\n",
    "| stalk-color-above-ring            | brown=n,buff=b,cinnamon=c,gray=g,orange=o,pink=p,red=e,white=w,yellow=y           |\n",
    "| stalk-color-below-ring            | brown=n,buff=b,cinnamon=c,gray=g,orange=o,pink=p,red=e,white=w,yellow=y                 |\n",
    "| veil-type       | partial=p,universal=u |\n",
    "| veil-color       | brown=n,orange=o,white=w,yellow=y                 |\n",
    "| ring-number    | none=n,one=o,two=t             |\n",
    "| ring-type            | cobwebby=c,evanescent=e,flaring=f,large=l,none=n,pendant=p,sheathing=s,zone=z                 |\n",
    "| spore-print-color     | black=k,brown=n,buff=b,chocolate=h,green=r,orange=o,purple=u,white=w,yellow=y |\n",
    "| population     | abundant=a,clustered=c,numerous=n,scattered=s,several=v,solitary=y |\n",
    "| habitat     | grasses=g,leaves=l,meadows=m,paths=p,urban=u,waste=w,woods=d |"
   ]
  },
  {
   "cell_type": "code",
   "execution_count": 5,
   "metadata": {},
   "outputs": [
    {
     "data": {
      "text/html": [
       "<div>\n",
       "<style scoped>\n",
       "    .dataframe tbody tr th:only-of-type {\n",
       "        vertical-align: middle;\n",
       "    }\n",
       "\n",
       "    .dataframe tbody tr th {\n",
       "        vertical-align: top;\n",
       "    }\n",
       "\n",
       "    .dataframe thead th {\n",
       "        text-align: right;\n",
       "    }\n",
       "</style>\n",
       "<table border=\"1\" class=\"dataframe\">\n",
       "  <thead>\n",
       "    <tr style=\"text-align: right;\">\n",
       "      <th></th>\n",
       "      <th>class</th>\n",
       "      <th>cap-shape</th>\n",
       "      <th>cap-surface</th>\n",
       "      <th>cap-color</th>\n",
       "      <th>bruises</th>\n",
       "      <th>odor</th>\n",
       "      <th>gill-attachment</th>\n",
       "      <th>gill-spacing</th>\n",
       "      <th>gill-size</th>\n",
       "      <th>gill-color</th>\n",
       "      <th>...</th>\n",
       "      <th>stalk-surface-below-ring</th>\n",
       "      <th>stalk-color-above-ring</th>\n",
       "      <th>stalk-color-below-ring</th>\n",
       "      <th>veil-type</th>\n",
       "      <th>veil-color</th>\n",
       "      <th>ring-number</th>\n",
       "      <th>ring-type</th>\n",
       "      <th>spore-print-color</th>\n",
       "      <th>population</th>\n",
       "      <th>habitat</th>\n",
       "    </tr>\n",
       "  </thead>\n",
       "  <tbody>\n",
       "    <tr>\n",
       "      <th>0</th>\n",
       "      <td>p</td>\n",
       "      <td>x</td>\n",
       "      <td>s</td>\n",
       "      <td>n</td>\n",
       "      <td>t</td>\n",
       "      <td>p</td>\n",
       "      <td>f</td>\n",
       "      <td>c</td>\n",
       "      <td>n</td>\n",
       "      <td>k</td>\n",
       "      <td>...</td>\n",
       "      <td>s</td>\n",
       "      <td>w</td>\n",
       "      <td>w</td>\n",
       "      <td>p</td>\n",
       "      <td>w</td>\n",
       "      <td>o</td>\n",
       "      <td>p</td>\n",
       "      <td>k</td>\n",
       "      <td>s</td>\n",
       "      <td>u</td>\n",
       "    </tr>\n",
       "    <tr>\n",
       "      <th>1</th>\n",
       "      <td>e</td>\n",
       "      <td>x</td>\n",
       "      <td>s</td>\n",
       "      <td>y</td>\n",
       "      <td>t</td>\n",
       "      <td>a</td>\n",
       "      <td>f</td>\n",
       "      <td>c</td>\n",
       "      <td>b</td>\n",
       "      <td>k</td>\n",
       "      <td>...</td>\n",
       "      <td>s</td>\n",
       "      <td>w</td>\n",
       "      <td>w</td>\n",
       "      <td>p</td>\n",
       "      <td>w</td>\n",
       "      <td>o</td>\n",
       "      <td>p</td>\n",
       "      <td>n</td>\n",
       "      <td>n</td>\n",
       "      <td>g</td>\n",
       "    </tr>\n",
       "    <tr>\n",
       "      <th>2</th>\n",
       "      <td>e</td>\n",
       "      <td>b</td>\n",
       "      <td>s</td>\n",
       "      <td>w</td>\n",
       "      <td>t</td>\n",
       "      <td>l</td>\n",
       "      <td>f</td>\n",
       "      <td>c</td>\n",
       "      <td>b</td>\n",
       "      <td>n</td>\n",
       "      <td>...</td>\n",
       "      <td>s</td>\n",
       "      <td>w</td>\n",
       "      <td>w</td>\n",
       "      <td>p</td>\n",
       "      <td>w</td>\n",
       "      <td>o</td>\n",
       "      <td>p</td>\n",
       "      <td>n</td>\n",
       "      <td>n</td>\n",
       "      <td>m</td>\n",
       "    </tr>\n",
       "    <tr>\n",
       "      <th>3</th>\n",
       "      <td>p</td>\n",
       "      <td>x</td>\n",
       "      <td>y</td>\n",
       "      <td>w</td>\n",
       "      <td>t</td>\n",
       "      <td>p</td>\n",
       "      <td>f</td>\n",
       "      <td>c</td>\n",
       "      <td>n</td>\n",
       "      <td>n</td>\n",
       "      <td>...</td>\n",
       "      <td>s</td>\n",
       "      <td>w</td>\n",
       "      <td>w</td>\n",
       "      <td>p</td>\n",
       "      <td>w</td>\n",
       "      <td>o</td>\n",
       "      <td>p</td>\n",
       "      <td>k</td>\n",
       "      <td>s</td>\n",
       "      <td>u</td>\n",
       "    </tr>\n",
       "    <tr>\n",
       "      <th>4</th>\n",
       "      <td>e</td>\n",
       "      <td>x</td>\n",
       "      <td>s</td>\n",
       "      <td>g</td>\n",
       "      <td>f</td>\n",
       "      <td>n</td>\n",
       "      <td>f</td>\n",
       "      <td>w</td>\n",
       "      <td>b</td>\n",
       "      <td>k</td>\n",
       "      <td>...</td>\n",
       "      <td>s</td>\n",
       "      <td>w</td>\n",
       "      <td>w</td>\n",
       "      <td>p</td>\n",
       "      <td>w</td>\n",
       "      <td>o</td>\n",
       "      <td>e</td>\n",
       "      <td>n</td>\n",
       "      <td>a</td>\n",
       "      <td>g</td>\n",
       "    </tr>\n",
       "    <tr>\n",
       "      <th>...</th>\n",
       "      <td>...</td>\n",
       "      <td>...</td>\n",
       "      <td>...</td>\n",
       "      <td>...</td>\n",
       "      <td>...</td>\n",
       "      <td>...</td>\n",
       "      <td>...</td>\n",
       "      <td>...</td>\n",
       "      <td>...</td>\n",
       "      <td>...</td>\n",
       "      <td>...</td>\n",
       "      <td>...</td>\n",
       "      <td>...</td>\n",
       "      <td>...</td>\n",
       "      <td>...</td>\n",
       "      <td>...</td>\n",
       "      <td>...</td>\n",
       "      <td>...</td>\n",
       "      <td>...</td>\n",
       "      <td>...</td>\n",
       "      <td>...</td>\n",
       "    </tr>\n",
       "    <tr>\n",
       "      <th>8119</th>\n",
       "      <td>e</td>\n",
       "      <td>k</td>\n",
       "      <td>s</td>\n",
       "      <td>n</td>\n",
       "      <td>f</td>\n",
       "      <td>n</td>\n",
       "      <td>a</td>\n",
       "      <td>c</td>\n",
       "      <td>b</td>\n",
       "      <td>y</td>\n",
       "      <td>...</td>\n",
       "      <td>s</td>\n",
       "      <td>o</td>\n",
       "      <td>o</td>\n",
       "      <td>p</td>\n",
       "      <td>o</td>\n",
       "      <td>o</td>\n",
       "      <td>p</td>\n",
       "      <td>b</td>\n",
       "      <td>c</td>\n",
       "      <td>l</td>\n",
       "    </tr>\n",
       "    <tr>\n",
       "      <th>8120</th>\n",
       "      <td>e</td>\n",
       "      <td>x</td>\n",
       "      <td>s</td>\n",
       "      <td>n</td>\n",
       "      <td>f</td>\n",
       "      <td>n</td>\n",
       "      <td>a</td>\n",
       "      <td>c</td>\n",
       "      <td>b</td>\n",
       "      <td>y</td>\n",
       "      <td>...</td>\n",
       "      <td>s</td>\n",
       "      <td>o</td>\n",
       "      <td>o</td>\n",
       "      <td>p</td>\n",
       "      <td>n</td>\n",
       "      <td>o</td>\n",
       "      <td>p</td>\n",
       "      <td>b</td>\n",
       "      <td>v</td>\n",
       "      <td>l</td>\n",
       "    </tr>\n",
       "    <tr>\n",
       "      <th>8121</th>\n",
       "      <td>e</td>\n",
       "      <td>f</td>\n",
       "      <td>s</td>\n",
       "      <td>n</td>\n",
       "      <td>f</td>\n",
       "      <td>n</td>\n",
       "      <td>a</td>\n",
       "      <td>c</td>\n",
       "      <td>b</td>\n",
       "      <td>n</td>\n",
       "      <td>...</td>\n",
       "      <td>s</td>\n",
       "      <td>o</td>\n",
       "      <td>o</td>\n",
       "      <td>p</td>\n",
       "      <td>o</td>\n",
       "      <td>o</td>\n",
       "      <td>p</td>\n",
       "      <td>b</td>\n",
       "      <td>c</td>\n",
       "      <td>l</td>\n",
       "    </tr>\n",
       "    <tr>\n",
       "      <th>8122</th>\n",
       "      <td>p</td>\n",
       "      <td>k</td>\n",
       "      <td>y</td>\n",
       "      <td>n</td>\n",
       "      <td>f</td>\n",
       "      <td>y</td>\n",
       "      <td>f</td>\n",
       "      <td>c</td>\n",
       "      <td>n</td>\n",
       "      <td>b</td>\n",
       "      <td>...</td>\n",
       "      <td>k</td>\n",
       "      <td>w</td>\n",
       "      <td>w</td>\n",
       "      <td>p</td>\n",
       "      <td>w</td>\n",
       "      <td>o</td>\n",
       "      <td>e</td>\n",
       "      <td>w</td>\n",
       "      <td>v</td>\n",
       "      <td>l</td>\n",
       "    </tr>\n",
       "    <tr>\n",
       "      <th>8123</th>\n",
       "      <td>e</td>\n",
       "      <td>x</td>\n",
       "      <td>s</td>\n",
       "      <td>n</td>\n",
       "      <td>f</td>\n",
       "      <td>n</td>\n",
       "      <td>a</td>\n",
       "      <td>c</td>\n",
       "      <td>b</td>\n",
       "      <td>y</td>\n",
       "      <td>...</td>\n",
       "      <td>s</td>\n",
       "      <td>o</td>\n",
       "      <td>o</td>\n",
       "      <td>p</td>\n",
       "      <td>o</td>\n",
       "      <td>o</td>\n",
       "      <td>p</td>\n",
       "      <td>o</td>\n",
       "      <td>c</td>\n",
       "      <td>l</td>\n",
       "    </tr>\n",
       "  </tbody>\n",
       "</table>\n",
       "<p>8124 rows × 23 columns</p>\n",
       "</div>"
      ],
      "text/plain": [
       "     class cap-shape cap-surface cap-color bruises odor gill-attachment  \\\n",
       "0        p         x           s         n       t    p               f   \n",
       "1        e         x           s         y       t    a               f   \n",
       "2        e         b           s         w       t    l               f   \n",
       "3        p         x           y         w       t    p               f   \n",
       "4        e         x           s         g       f    n               f   \n",
       "...    ...       ...         ...       ...     ...  ...             ...   \n",
       "8119     e         k           s         n       f    n               a   \n",
       "8120     e         x           s         n       f    n               a   \n",
       "8121     e         f           s         n       f    n               a   \n",
       "8122     p         k           y         n       f    y               f   \n",
       "8123     e         x           s         n       f    n               a   \n",
       "\n",
       "     gill-spacing gill-size gill-color  ... stalk-surface-below-ring  \\\n",
       "0               c         n          k  ...                        s   \n",
       "1               c         b          k  ...                        s   \n",
       "2               c         b          n  ...                        s   \n",
       "3               c         n          n  ...                        s   \n",
       "4               w         b          k  ...                        s   \n",
       "...           ...       ...        ...  ...                      ...   \n",
       "8119            c         b          y  ...                        s   \n",
       "8120            c         b          y  ...                        s   \n",
       "8121            c         b          n  ...                        s   \n",
       "8122            c         n          b  ...                        k   \n",
       "8123            c         b          y  ...                        s   \n",
       "\n",
       "     stalk-color-above-ring stalk-color-below-ring veil-type veil-color  \\\n",
       "0                         w                      w         p          w   \n",
       "1                         w                      w         p          w   \n",
       "2                         w                      w         p          w   \n",
       "3                         w                      w         p          w   \n",
       "4                         w                      w         p          w   \n",
       "...                     ...                    ...       ...        ...   \n",
       "8119                      o                      o         p          o   \n",
       "8120                      o                      o         p          n   \n",
       "8121                      o                      o         p          o   \n",
       "8122                      w                      w         p          w   \n",
       "8123                      o                      o         p          o   \n",
       "\n",
       "     ring-number ring-type spore-print-color population habitat  \n",
       "0              o         p                 k          s       u  \n",
       "1              o         p                 n          n       g  \n",
       "2              o         p                 n          n       m  \n",
       "3              o         p                 k          s       u  \n",
       "4              o         e                 n          a       g  \n",
       "...          ...       ...               ...        ...     ...  \n",
       "8119           o         p                 b          c       l  \n",
       "8120           o         p                 b          v       l  \n",
       "8121           o         p                 b          c       l  \n",
       "8122           o         e                 w          v       l  \n",
       "8123           o         p                 o          c       l  \n",
       "\n",
       "[8124 rows x 23 columns]"
      ]
     },
     "execution_count": 5,
     "metadata": {},
     "output_type": "execute_result"
    }
   ],
   "source": [
    "# Assuming the uploaded file is a CSV file with mixed separators\n",
    "df = pd.read_csv(\"P:/Mathis/MASTER 2/S1/SVM et réseaux de neurones/Python/Projet/mushrooms.csv\", sep =\";\")\n",
    "df"
   ]
  },
  {
   "cell_type": "code",
   "execution_count": 6,
   "metadata": {},
   "outputs": [
    {
     "data": {
      "text/plain": [
       "class                       object\n",
       "cap-shape                   object\n",
       "cap-surface                 object\n",
       "cap-color                   object\n",
       "bruises                     object\n",
       "odor                        object\n",
       "gill-attachment             object\n",
       "gill-spacing                object\n",
       "gill-size                   object\n",
       "gill-color                  object\n",
       "stalk-shape                 object\n",
       "stalk-root                  object\n",
       "stalk-surface-above-ring    object\n",
       "stalk-surface-below-ring    object\n",
       "stalk-color-above-ring      object\n",
       "stalk-color-below-ring      object\n",
       "veil-type                   object\n",
       "veil-color                  object\n",
       "ring-number                 object\n",
       "ring-type                   object\n",
       "spore-print-color           object\n",
       "population                  object\n",
       "habitat                     object\n",
       "dtype: object"
      ]
     },
     "execution_count": 6,
     "metadata": {},
     "output_type": "execute_result"
    }
   ],
   "source": [
    "df.dtypes\n",
    "# Nous avons 23 variables qualitatives dont la variable à expliquer \"class\""
   ]
  },
  {
   "cell_type": "code",
   "execution_count": 7,
   "metadata": {},
   "outputs": [],
   "source": [
    "for col in df.columns:\n",
    "    if df[col].dtype == 'object':\n",
    "        df[col] = df[col].astype('category')"
   ]
  },
  {
   "cell_type": "code",
   "execution_count": 8,
   "metadata": {},
   "outputs": [
    {
     "name": "stdout",
     "output_type": "stream",
     "text": [
      "<class 'pandas.core.frame.DataFrame'>\n",
      "RangeIndex: 8124 entries, 0 to 8123\n",
      "Data columns (total 96 columns):\n",
      " #   Column                      Non-Null Count  Dtype\n",
      "---  ------                      --------------  -----\n",
      " 0   class_p                     8124 non-null   bool \n",
      " 1   cap-shape_c                 8124 non-null   bool \n",
      " 2   cap-shape_f                 8124 non-null   bool \n",
      " 3   cap-shape_k                 8124 non-null   bool \n",
      " 4   cap-shape_s                 8124 non-null   bool \n",
      " 5   cap-shape_x                 8124 non-null   bool \n",
      " 6   cap-surface_g               8124 non-null   bool \n",
      " 7   cap-surface_s               8124 non-null   bool \n",
      " 8   cap-surface_y               8124 non-null   bool \n",
      " 9   cap-color_c                 8124 non-null   bool \n",
      " 10  cap-color_e                 8124 non-null   bool \n",
      " 11  cap-color_g                 8124 non-null   bool \n",
      " 12  cap-color_n                 8124 non-null   bool \n",
      " 13  cap-color_p                 8124 non-null   bool \n",
      " 14  cap-color_r                 8124 non-null   bool \n",
      " 15  cap-color_u                 8124 non-null   bool \n",
      " 16  cap-color_w                 8124 non-null   bool \n",
      " 17  cap-color_y                 8124 non-null   bool \n",
      " 18  bruises_t                   8124 non-null   bool \n",
      " 19  odor_c                      8124 non-null   bool \n",
      " 20  odor_f                      8124 non-null   bool \n",
      " 21  odor_l                      8124 non-null   bool \n",
      " 22  odor_m                      8124 non-null   bool \n",
      " 23  odor_n                      8124 non-null   bool \n",
      " 24  odor_p                      8124 non-null   bool \n",
      " 25  odor_s                      8124 non-null   bool \n",
      " 26  odor_y                      8124 non-null   bool \n",
      " 27  gill-attachment_f           8124 non-null   bool \n",
      " 28  gill-spacing_w              8124 non-null   bool \n",
      " 29  gill-size_n                 8124 non-null   bool \n",
      " 30  gill-color_e                8124 non-null   bool \n",
      " 31  gill-color_g                8124 non-null   bool \n",
      " 32  gill-color_h                8124 non-null   bool \n",
      " 33  gill-color_k                8124 non-null   bool \n",
      " 34  gill-color_n                8124 non-null   bool \n",
      " 35  gill-color_o                8124 non-null   bool \n",
      " 36  gill-color_p                8124 non-null   bool \n",
      " 37  gill-color_r                8124 non-null   bool \n",
      " 38  gill-color_u                8124 non-null   bool \n",
      " 39  gill-color_w                8124 non-null   bool \n",
      " 40  gill-color_y                8124 non-null   bool \n",
      " 41  stalk-shape_t               8124 non-null   bool \n",
      " 42  stalk-root_b                8124 non-null   bool \n",
      " 43  stalk-root_c                8124 non-null   bool \n",
      " 44  stalk-root_e                8124 non-null   bool \n",
      " 45  stalk-root_r                8124 non-null   bool \n",
      " 46  stalk-surface-above-ring_k  8124 non-null   bool \n",
      " 47  stalk-surface-above-ring_s  8124 non-null   bool \n",
      " 48  stalk-surface-above-ring_y  8124 non-null   bool \n",
      " 49  stalk-surface-below-ring_k  8124 non-null   bool \n",
      " 50  stalk-surface-below-ring_s  8124 non-null   bool \n",
      " 51  stalk-surface-below-ring_y  8124 non-null   bool \n",
      " 52  stalk-color-above-ring_c    8124 non-null   bool \n",
      " 53  stalk-color-above-ring_e    8124 non-null   bool \n",
      " 54  stalk-color-above-ring_g    8124 non-null   bool \n",
      " 55  stalk-color-above-ring_n    8124 non-null   bool \n",
      " 56  stalk-color-above-ring_o    8124 non-null   bool \n",
      " 57  stalk-color-above-ring_p    8124 non-null   bool \n",
      " 58  stalk-color-above-ring_w    8124 non-null   bool \n",
      " 59  stalk-color-above-ring_y    8124 non-null   bool \n",
      " 60  stalk-color-below-ring_c    8124 non-null   bool \n",
      " 61  stalk-color-below-ring_e    8124 non-null   bool \n",
      " 62  stalk-color-below-ring_g    8124 non-null   bool \n",
      " 63  stalk-color-below-ring_n    8124 non-null   bool \n",
      " 64  stalk-color-below-ring_o    8124 non-null   bool \n",
      " 65  stalk-color-below-ring_p    8124 non-null   bool \n",
      " 66  stalk-color-below-ring_w    8124 non-null   bool \n",
      " 67  stalk-color-below-ring_y    8124 non-null   bool \n",
      " 68  veil-color_o                8124 non-null   bool \n",
      " 69  veil-color_w                8124 non-null   bool \n",
      " 70  veil-color_y                8124 non-null   bool \n",
      " 71  ring-number_o               8124 non-null   bool \n",
      " 72  ring-number_t               8124 non-null   bool \n",
      " 73  ring-type_f                 8124 non-null   bool \n",
      " 74  ring-type_l                 8124 non-null   bool \n",
      " 75  ring-type_n                 8124 non-null   bool \n",
      " 76  ring-type_p                 8124 non-null   bool \n",
      " 77  spore-print-color_h         8124 non-null   bool \n",
      " 78  spore-print-color_k         8124 non-null   bool \n",
      " 79  spore-print-color_n         8124 non-null   bool \n",
      " 80  spore-print-color_o         8124 non-null   bool \n",
      " 81  spore-print-color_r         8124 non-null   bool \n",
      " 82  spore-print-color_u         8124 non-null   bool \n",
      " 83  spore-print-color_w         8124 non-null   bool \n",
      " 84  spore-print-color_y         8124 non-null   bool \n",
      " 85  population_c                8124 non-null   bool \n",
      " 86  population_n                8124 non-null   bool \n",
      " 87  population_s                8124 non-null   bool \n",
      " 88  population_v                8124 non-null   bool \n",
      " 89  population_y                8124 non-null   bool \n",
      " 90  habitat_g                   8124 non-null   bool \n",
      " 91  habitat_l                   8124 non-null   bool \n",
      " 92  habitat_m                   8124 non-null   bool \n",
      " 93  habitat_p                   8124 non-null   bool \n",
      " 94  habitat_u                   8124 non-null   bool \n",
      " 95  habitat_w                   8124 non-null   bool \n",
      "dtypes: bool(96)\n",
      "memory usage: 761.8 KB\n"
     ]
    },
    {
     "data": {
      "text/html": [
       "<div>\n",
       "<style scoped>\n",
       "    .dataframe tbody tr th:only-of-type {\n",
       "        vertical-align: middle;\n",
       "    }\n",
       "\n",
       "    .dataframe tbody tr th {\n",
       "        vertical-align: top;\n",
       "    }\n",
       "\n",
       "    .dataframe thead th {\n",
       "        text-align: right;\n",
       "    }\n",
       "</style>\n",
       "<table border=\"1\" class=\"dataframe\">\n",
       "  <thead>\n",
       "    <tr style=\"text-align: right;\">\n",
       "      <th></th>\n",
       "      <th>class_p</th>\n",
       "      <th>cap-shape_c</th>\n",
       "      <th>cap-shape_f</th>\n",
       "      <th>cap-shape_k</th>\n",
       "      <th>cap-shape_s</th>\n",
       "      <th>cap-shape_x</th>\n",
       "      <th>cap-surface_g</th>\n",
       "      <th>cap-surface_s</th>\n",
       "      <th>cap-surface_y</th>\n",
       "      <th>cap-color_c</th>\n",
       "      <th>...</th>\n",
       "      <th>population_n</th>\n",
       "      <th>population_s</th>\n",
       "      <th>population_v</th>\n",
       "      <th>population_y</th>\n",
       "      <th>habitat_g</th>\n",
       "      <th>habitat_l</th>\n",
       "      <th>habitat_m</th>\n",
       "      <th>habitat_p</th>\n",
       "      <th>habitat_u</th>\n",
       "      <th>habitat_w</th>\n",
       "    </tr>\n",
       "  </thead>\n",
       "  <tbody>\n",
       "    <tr>\n",
       "      <th>0</th>\n",
       "      <td>True</td>\n",
       "      <td>False</td>\n",
       "      <td>False</td>\n",
       "      <td>False</td>\n",
       "      <td>False</td>\n",
       "      <td>True</td>\n",
       "      <td>False</td>\n",
       "      <td>True</td>\n",
       "      <td>False</td>\n",
       "      <td>False</td>\n",
       "      <td>...</td>\n",
       "      <td>False</td>\n",
       "      <td>True</td>\n",
       "      <td>False</td>\n",
       "      <td>False</td>\n",
       "      <td>False</td>\n",
       "      <td>False</td>\n",
       "      <td>False</td>\n",
       "      <td>False</td>\n",
       "      <td>True</td>\n",
       "      <td>False</td>\n",
       "    </tr>\n",
       "    <tr>\n",
       "      <th>1</th>\n",
       "      <td>False</td>\n",
       "      <td>False</td>\n",
       "      <td>False</td>\n",
       "      <td>False</td>\n",
       "      <td>False</td>\n",
       "      <td>True</td>\n",
       "      <td>False</td>\n",
       "      <td>True</td>\n",
       "      <td>False</td>\n",
       "      <td>False</td>\n",
       "      <td>...</td>\n",
       "      <td>True</td>\n",
       "      <td>False</td>\n",
       "      <td>False</td>\n",
       "      <td>False</td>\n",
       "      <td>True</td>\n",
       "      <td>False</td>\n",
       "      <td>False</td>\n",
       "      <td>False</td>\n",
       "      <td>False</td>\n",
       "      <td>False</td>\n",
       "    </tr>\n",
       "    <tr>\n",
       "      <th>2</th>\n",
       "      <td>False</td>\n",
       "      <td>False</td>\n",
       "      <td>False</td>\n",
       "      <td>False</td>\n",
       "      <td>False</td>\n",
       "      <td>False</td>\n",
       "      <td>False</td>\n",
       "      <td>True</td>\n",
       "      <td>False</td>\n",
       "      <td>False</td>\n",
       "      <td>...</td>\n",
       "      <td>True</td>\n",
       "      <td>False</td>\n",
       "      <td>False</td>\n",
       "      <td>False</td>\n",
       "      <td>False</td>\n",
       "      <td>False</td>\n",
       "      <td>True</td>\n",
       "      <td>False</td>\n",
       "      <td>False</td>\n",
       "      <td>False</td>\n",
       "    </tr>\n",
       "    <tr>\n",
       "      <th>3</th>\n",
       "      <td>True</td>\n",
       "      <td>False</td>\n",
       "      <td>False</td>\n",
       "      <td>False</td>\n",
       "      <td>False</td>\n",
       "      <td>True</td>\n",
       "      <td>False</td>\n",
       "      <td>False</td>\n",
       "      <td>True</td>\n",
       "      <td>False</td>\n",
       "      <td>...</td>\n",
       "      <td>False</td>\n",
       "      <td>True</td>\n",
       "      <td>False</td>\n",
       "      <td>False</td>\n",
       "      <td>False</td>\n",
       "      <td>False</td>\n",
       "      <td>False</td>\n",
       "      <td>False</td>\n",
       "      <td>True</td>\n",
       "      <td>False</td>\n",
       "    </tr>\n",
       "    <tr>\n",
       "      <th>4</th>\n",
       "      <td>False</td>\n",
       "      <td>False</td>\n",
       "      <td>False</td>\n",
       "      <td>False</td>\n",
       "      <td>False</td>\n",
       "      <td>True</td>\n",
       "      <td>False</td>\n",
       "      <td>True</td>\n",
       "      <td>False</td>\n",
       "      <td>False</td>\n",
       "      <td>...</td>\n",
       "      <td>False</td>\n",
       "      <td>False</td>\n",
       "      <td>False</td>\n",
       "      <td>False</td>\n",
       "      <td>True</td>\n",
       "      <td>False</td>\n",
       "      <td>False</td>\n",
       "      <td>False</td>\n",
       "      <td>False</td>\n",
       "      <td>False</td>\n",
       "    </tr>\n",
       "  </tbody>\n",
       "</table>\n",
       "<p>5 rows × 96 columns</p>\n",
       "</div>"
      ],
      "text/plain": [
       "   class_p  cap-shape_c  cap-shape_f  cap-shape_k  cap-shape_s  cap-shape_x  \\\n",
       "0     True        False        False        False        False         True   \n",
       "1    False        False        False        False        False         True   \n",
       "2    False        False        False        False        False        False   \n",
       "3     True        False        False        False        False         True   \n",
       "4    False        False        False        False        False         True   \n",
       "\n",
       "   cap-surface_g  cap-surface_s  cap-surface_y  cap-color_c  ...  \\\n",
       "0          False           True          False        False  ...   \n",
       "1          False           True          False        False  ...   \n",
       "2          False           True          False        False  ...   \n",
       "3          False          False           True        False  ...   \n",
       "4          False           True          False        False  ...   \n",
       "\n",
       "   population_n  population_s  population_v  population_y  habitat_g  \\\n",
       "0         False          True         False         False      False   \n",
       "1          True         False         False         False       True   \n",
       "2          True         False         False         False      False   \n",
       "3         False          True         False         False      False   \n",
       "4         False         False         False         False       True   \n",
       "\n",
       "   habitat_l  habitat_m  habitat_p  habitat_u  habitat_w  \n",
       "0      False      False      False       True      False  \n",
       "1      False      False      False      False      False  \n",
       "2      False       True      False      False      False  \n",
       "3      False      False      False       True      False  \n",
       "4      False      False      False      False      False  \n",
       "\n",
       "[5 rows x 96 columns]"
      ]
     },
     "execution_count": 8,
     "metadata": {},
     "output_type": "execute_result"
    }
   ],
   "source": [
    "# On transforme les variables en dummies pour les modèles\n",
    "nominalColumns = df.select_dtypes(include='category').columns\n",
    "dfEncoded = df.copy()\n",
    "\n",
    "# encoder les variables catégorielles\n",
    "dfEncoded = pd.get_dummies(df, columns=nominalColumns, drop_first=True)\n",
    "\n",
    "dfEncoded.info()\n",
    "dfEncoded.head()"
   ]
  },
  {
   "cell_type": "code",
   "execution_count": 9,
   "metadata": {},
   "outputs": [],
   "source": [
    "# Recodage des variables en 0-1\n",
    "for col in dfEncoded.columns:\n",
    "    if dfEncoded[col].dtype == 'bool':\n",
    "        dfEncoded[col] = dfEncoded[col].astype('int32')"
   ]
  },
  {
   "cell_type": "code",
   "execution_count": 10,
   "metadata": {},
   "outputs": [
    {
     "data": {
      "text/html": [
       "<div>\n",
       "<style scoped>\n",
       "    .dataframe tbody tr th:only-of-type {\n",
       "        vertical-align: middle;\n",
       "    }\n",
       "\n",
       "    .dataframe tbody tr th {\n",
       "        vertical-align: top;\n",
       "    }\n",
       "\n",
       "    .dataframe thead th {\n",
       "        text-align: right;\n",
       "    }\n",
       "</style>\n",
       "<table border=\"1\" class=\"dataframe\">\n",
       "  <thead>\n",
       "    <tr style=\"text-align: right;\">\n",
       "      <th></th>\n",
       "      <th>class_p</th>\n",
       "      <th>cap-shape_c</th>\n",
       "      <th>cap-shape_f</th>\n",
       "      <th>cap-shape_k</th>\n",
       "      <th>cap-shape_s</th>\n",
       "      <th>cap-shape_x</th>\n",
       "      <th>cap-surface_g</th>\n",
       "      <th>cap-surface_s</th>\n",
       "      <th>cap-surface_y</th>\n",
       "      <th>cap-color_c</th>\n",
       "      <th>...</th>\n",
       "      <th>population_n</th>\n",
       "      <th>population_s</th>\n",
       "      <th>population_v</th>\n",
       "      <th>population_y</th>\n",
       "      <th>habitat_g</th>\n",
       "      <th>habitat_l</th>\n",
       "      <th>habitat_m</th>\n",
       "      <th>habitat_p</th>\n",
       "      <th>habitat_u</th>\n",
       "      <th>habitat_w</th>\n",
       "    </tr>\n",
       "  </thead>\n",
       "  <tbody>\n",
       "    <tr>\n",
       "      <th>3618</th>\n",
       "      <td>0</td>\n",
       "      <td>0</td>\n",
       "      <td>1</td>\n",
       "      <td>0</td>\n",
       "      <td>0</td>\n",
       "      <td>0</td>\n",
       "      <td>0</td>\n",
       "      <td>0</td>\n",
       "      <td>1</td>\n",
       "      <td>0</td>\n",
       "      <td>...</td>\n",
       "      <td>0</td>\n",
       "      <td>0</td>\n",
       "      <td>0</td>\n",
       "      <td>1</td>\n",
       "      <td>0</td>\n",
       "      <td>0</td>\n",
       "      <td>0</td>\n",
       "      <td>0</td>\n",
       "      <td>0</td>\n",
       "      <td>0</td>\n",
       "    </tr>\n",
       "    <tr>\n",
       "      <th>4152</th>\n",
       "      <td>1</td>\n",
       "      <td>0</td>\n",
       "      <td>1</td>\n",
       "      <td>0</td>\n",
       "      <td>0</td>\n",
       "      <td>0</td>\n",
       "      <td>0</td>\n",
       "      <td>0</td>\n",
       "      <td>1</td>\n",
       "      <td>0</td>\n",
       "      <td>...</td>\n",
       "      <td>0</td>\n",
       "      <td>0</td>\n",
       "      <td>1</td>\n",
       "      <td>0</td>\n",
       "      <td>1</td>\n",
       "      <td>0</td>\n",
       "      <td>0</td>\n",
       "      <td>0</td>\n",
       "      <td>0</td>\n",
       "      <td>0</td>\n",
       "    </tr>\n",
       "    <tr>\n",
       "      <th>7173</th>\n",
       "      <td>0</td>\n",
       "      <td>0</td>\n",
       "      <td>0</td>\n",
       "      <td>0</td>\n",
       "      <td>0</td>\n",
       "      <td>0</td>\n",
       "      <td>0</td>\n",
       "      <td>1</td>\n",
       "      <td>0</td>\n",
       "      <td>0</td>\n",
       "      <td>...</td>\n",
       "      <td>0</td>\n",
       "      <td>0</td>\n",
       "      <td>0</td>\n",
       "      <td>0</td>\n",
       "      <td>0</td>\n",
       "      <td>1</td>\n",
       "      <td>0</td>\n",
       "      <td>0</td>\n",
       "      <td>0</td>\n",
       "      <td>0</td>\n",
       "    </tr>\n",
       "    <tr>\n",
       "      <th>6912</th>\n",
       "      <td>1</td>\n",
       "      <td>0</td>\n",
       "      <td>0</td>\n",
       "      <td>0</td>\n",
       "      <td>0</td>\n",
       "      <td>0</td>\n",
       "      <td>0</td>\n",
       "      <td>0</td>\n",
       "      <td>1</td>\n",
       "      <td>0</td>\n",
       "      <td>...</td>\n",
       "      <td>0</td>\n",
       "      <td>0</td>\n",
       "      <td>0</td>\n",
       "      <td>0</td>\n",
       "      <td>0</td>\n",
       "      <td>1</td>\n",
       "      <td>0</td>\n",
       "      <td>0</td>\n",
       "      <td>0</td>\n",
       "      <td>0</td>\n",
       "    </tr>\n",
       "    <tr>\n",
       "      <th>3514</th>\n",
       "      <td>0</td>\n",
       "      <td>0</td>\n",
       "      <td>1</td>\n",
       "      <td>0</td>\n",
       "      <td>0</td>\n",
       "      <td>0</td>\n",
       "      <td>0</td>\n",
       "      <td>0</td>\n",
       "      <td>1</td>\n",
       "      <td>0</td>\n",
       "      <td>...</td>\n",
       "      <td>0</td>\n",
       "      <td>0</td>\n",
       "      <td>0</td>\n",
       "      <td>1</td>\n",
       "      <td>0</td>\n",
       "      <td>0</td>\n",
       "      <td>0</td>\n",
       "      <td>0</td>\n",
       "      <td>0</td>\n",
       "      <td>0</td>\n",
       "    </tr>\n",
       "  </tbody>\n",
       "</table>\n",
       "<p>5 rows × 96 columns</p>\n",
       "</div>"
      ],
      "text/plain": [
       "      class_p  cap-shape_c  cap-shape_f  cap-shape_k  cap-shape_s  \\\n",
       "3618        0            0            1            0            0   \n",
       "4152        1            0            1            0            0   \n",
       "7173        0            0            0            0            0   \n",
       "6912        1            0            0            0            0   \n",
       "3514        0            0            1            0            0   \n",
       "\n",
       "      cap-shape_x  cap-surface_g  cap-surface_s  cap-surface_y  cap-color_c  \\\n",
       "3618            0              0              0              1            0   \n",
       "4152            0              0              0              1            0   \n",
       "7173            0              0              1              0            0   \n",
       "6912            0              0              0              1            0   \n",
       "3514            0              0              0              1            0   \n",
       "\n",
       "      ...  population_n  population_s  population_v  population_y  habitat_g  \\\n",
       "3618  ...             0             0             0             1          0   \n",
       "4152  ...             0             0             1             0          1   \n",
       "7173  ...             0             0             0             0          0   \n",
       "6912  ...             0             0             0             0          0   \n",
       "3514  ...             0             0             0             1          0   \n",
       "\n",
       "      habitat_l  habitat_m  habitat_p  habitat_u  habitat_w  \n",
       "3618          0          0          0          0          0  \n",
       "4152          0          0          0          0          0  \n",
       "7173          1          0          0          0          0  \n",
       "6912          1          0          0          0          0  \n",
       "3514          0          0          0          0          0  \n",
       "\n",
       "[5 rows x 96 columns]"
      ]
     },
     "execution_count": 10,
     "metadata": {},
     "output_type": "execute_result"
    }
   ],
   "source": [
    "dfEncoded.sample(5)"
   ]
  },
  {
   "cell_type": "markdown",
   "metadata": {},
   "source": [
    "## III) Quelques statistiques descritives"
   ]
  },
  {
   "cell_type": "code",
   "execution_count": 11,
   "metadata": {},
   "outputs": [
    {
     "data": {
      "image/png": "[encoded data removed]",
      "text/plain": [
       "<Figure size 1000x600 with 1 Axes>"
      ]
     },
     "metadata": {},
     "output_type": "display_data"
    }
   ],
   "source": [
    "#Graphique qui représente la proportion de la comestibilité des champignons\n",
    "champ_class = dfEncoded[\"class_p\"].value_counts()\n",
    "\n",
    "champ_class.plot(kind='pie',\n",
    "                        figsize=(10, 6),\n",
    "                        title =\"Répartition de la comestibilité des champignons\",\n",
    "                        autopct='%1.1f%%',\n",
    "                        colors=[\"#e41a1c\",\"#377eb8\"],\n",
    "                        explode = (0, 0.1),\n",
    "                        labels = None\n",
    "                        )\n",
    "plt.legend(champ_class.index, title=\"Labels\", loc=\"upper right\")\n",
    "plt.axis(\"off\")\n",
    "plt.show()"
   ]
  },
  {
   "cell_type": "markdown",
   "metadata": {},
   "source": [
    "Les modalités de la variable à expliquer sont très bien réparties avec 48% de champignons venimeux et 52% qui ne le sont pas. Il n'y aura pas besoin de rééchantilloner la variable."
   ]
  },
  {
   "cell_type": "code",
   "execution_count": 12,
   "metadata": {},
   "outputs": [],
   "source": [
    "from scipy.stats import chi2_contingency\n",
    "\n",
    "category_columns = df.select_dtypes(include='object').columns\n",
    "\n",
    "# Créez un DataFrame avec seulement ces colonnes\n",
    "df_category = df[category_columns]\n",
    "\n",
    "# Initialisez une liste pour stocker les résultats des tests du chi-deux\n",
    "chi2_results = []\n",
    "\n",
    "# Spécifiez le seuil de p-value\n",
    "alpha = 0.05\n",
    "\n",
    "# Bouclez sur chaque paire de colonnes\n",
    "for i in range(len(df_category.columns)):\n",
    "    for j in range(i+1, len(df_category.columns)):  # Commencez à j+1 pour éviter les duplicatas\n",
    "        col1, col2 = df_category.columns[i], df_category.columns[j]\n",
    "        \n",
    "        # Créez un tableau de contingence pour le test du chi-deux\n",
    "        contingency_table = pd.crosstab(df_category[col1], df_category[col2])\n",
    "        \n",
    "        # Effectuez le test du chi-deux\n",
    "        chi2, p, _, _ = chi2_contingency(contingency_table)\n",
    "        \n",
    "        # Vérifiez si la p-value est inférieure au seuil spécifié\n",
    "        if p < alpha:\n",
    "            # Stockez les résultats dans la liste\n",
    "            chi2_results.append({\n",
    "                'Variable1': col1,\n",
    "                'Variable2': col2,\n",
    "                'P-value': p\n",
    "            })\n",
    "\n",
    "# Créez un DataFrame à partir des résultats\n",
    "chi2_results_df = pd.DataFrame(chi2_results)\n",
    "# chi2_results_df.to_csv('chi2_results.csv', index=False, sep =\";\")"
   ]
  },
  {
   "cell_type": "markdown",
   "metadata": {},
   "source": [
    "On a de fortes corrélations entre les variables explicatives et la variable à expliquer. Il y a aussi une forte corrélation entre les variables explicatives. On va donc représenter graphiquement les modalités des variables pour mieux comprendre ces résultats."
   ]
  },
  {
   "cell_type": "code",
   "execution_count": 13,
   "metadata": {},
   "outputs": [
    {
     "data": {
      "application/vnd.plotly.v1+json": {
       "config": {
        "plotlyServerURL": "https://plot.ly"
       },
       "data": [
        {
         "type": "bar",
         "x": [
          "x",
          "f",
          "k",
          "b",
          "s",
          "c"
         ],
         "xaxis": "x",
         "y": [
          3656,
          3152,
          828,
          452,
          32,
          4
         ],
         "yaxis": "y"
        },
        {
         "type": "bar",
         "x": [
          "y",
          "s",
          "f",
          "g"
         ],
         "xaxis": "x2",
         "y": [
          3244,
          2556,
          2320,
          4
         ],
         "yaxis": "y2"
        },
        {
         "type": "bar",
         "x": [
          "n",
          "g",
          "e",
          "y",
          "w",
          "b",
          "p",
          "c",
          "r",
          "u"
         ],
         "xaxis": "x3",
         "y": [
          2284,
          1840,
          1500,
          1072,
          1040,
          168,
          144,
          44,
          16,
          16
         ],
         "yaxis": "y3"
        },
        {
         "type": "bar",
         "x": [
          "f",
          "t"
         ],
         "xaxis": "x4",
         "y": [
          4748,
          3376
         ],
         "yaxis": "y4"
        },
        {
         "type": "bar",
         "x": [
          "n",
          "f",
          "s",
          "y",
          "a",
          "l",
          "p",
          "c",
          "m"
         ],
         "xaxis": "x5",
         "y": [
          3528,
          2160,
          576,
          576,
          400,
          400,
          256,
          192,
          36
         ],
         "yaxis": "y5"
        },
        {
         "type": "bar",
         "x": [
          "f",
          "a"
         ],
         "xaxis": "x6",
         "y": [
          7914,
          210
         ],
         "yaxis": "y6"
        },
        {
         "type": "bar",
         "x": [
          "c",
          "w"
         ],
         "xaxis": "x7",
         "y": [
          6812,
          1312
         ],
         "yaxis": "y7"
        },
        {
         "type": "bar",
         "x": [
          "b",
          "n"
         ],
         "xaxis": "x8",
         "y": [
          5612,
          2512
         ],
         "yaxis": "y8"
        },
        {
         "type": "bar",
         "x": [
          "b",
          "p",
          "w",
          "n",
          "g",
          "h",
          "u",
          "k",
          "e",
          "y",
          "o",
          "r"
         ],
         "xaxis": "x9",
         "y": [
          1728,
          1492,
          1202,
          1048,
          752,
          732,
          492,
          408,
          96,
          86,
          64,
          24
         ],
         "yaxis": "y9"
        },
        {
         "type": "bar",
         "x": [
          "t",
          "e"
         ],
         "xaxis": "x10",
         "y": [
          4608,
          3516
         ],
         "yaxis": "y10"
        },
        {
         "type": "bar",
         "x": [
          "b",
          "?",
          "e",
          "c",
          "r"
         ],
         "xaxis": "x11",
         "y": [
          3776,
          2480,
          1120,
          556,
          192
         ],
         "yaxis": "y11"
        },
        {
         "type": "bar",
         "x": [
          "s",
          "k",
          "f",
          "y"
         ],
         "xaxis": "x12",
         "y": [
          5176,
          2372,
          552,
          24
         ],
         "yaxis": "y12"
        },
        {
         "type": "bar",
         "x": [
          "s",
          "k",
          "f",
          "y"
         ],
         "xaxis": "x13",
         "y": [
          4936,
          2304,
          600,
          284
         ],
         "yaxis": "y13"
        },
        {
         "type": "bar",
         "x": [
          "w",
          "p",
          "g",
          "n",
          "b",
          "o",
          "e",
          "c",
          "y"
         ],
         "xaxis": "x14",
         "y": [
          4464,
          1872,
          576,
          448,
          432,
          192,
          96,
          36,
          8
         ],
         "yaxis": "y14"
        },
        {
         "type": "bar",
         "x": [
          "w",
          "p",
          "g",
          "n",
          "b",
          "o",
          "e",
          "c",
          "y"
         ],
         "xaxis": "x15",
         "y": [
          4384,
          1872,
          576,
          512,
          432,
          192,
          96,
          36,
          24
         ],
         "yaxis": "y15"
        },
        {
         "type": "bar",
         "x": [
          "p"
         ],
         "xaxis": "x16",
         "y": [
          8124
         ],
         "yaxis": "y16"
        },
        {
         "type": "bar",
         "x": [
          "w",
          "n",
          "o",
          "y"
         ],
         "xaxis": "x17",
         "y": [
          7924,
          96,
          96,
          8
         ],
         "yaxis": "y17"
        },
        {
         "type": "bar",
         "x": [
          "o",
          "t",
          "n"
         ],
         "xaxis": "x18",
         "y": [
          7488,
          600,
          36
         ],
         "yaxis": "y18"
        },
        {
         "type": "bar",
         "x": [
          "p",
          "e",
          "l",
          "f",
          "n"
         ],
         "xaxis": "x19",
         "y": [
          3968,
          2776,
          1296,
          48,
          36
         ],
         "yaxis": "y19"
        },
        {
         "type": "bar",
         "x": [
          "w",
          "n",
          "k",
          "h",
          "r",
          "b",
          "o",
          "u",
          "y"
         ],
         "xaxis": "x20",
         "y": [
          2388,
          1968,
          1872,
          1632,
          72,
          48,
          48,
          48,
          48
         ],
         "yaxis": "y20"
        },
        {
         "type": "bar",
         "x": [
          "v",
          "y",
          "s",
          "n",
          "a",
          "c"
         ],
         "xaxis": "x21",
         "y": [
          4040,
          1712,
          1248,
          400,
          384,
          340
         ],
         "yaxis": "y21"
        },
        {
         "type": "bar",
         "x": [
          "d",
          "g",
          "p",
          "l",
          "u",
          "m",
          "w"
         ],
         "xaxis": "x22",
         "y": [
          3148,
          2148,
          1144,
          832,
          368,
          292,
          192
         ],
         "yaxis": "y22"
        }
       ],
       "layout": {
        "annotations": [
         {
          "font": {
           "size": 16
          },
          "showarrow": false,
          "text": "cap-shape",
          "x": 0.14444444444444446,
          "xanchor": "center",
          "xref": "paper",
          "y": 1,
          "yanchor": "bottom",
          "yref": "paper"
         },
         {
          "font": {
           "size": 16
          },
          "showarrow": false,
          "text": "cap-surface",
          "x": 0.5,
          "xanchor": "center",
          "xref": "paper",
          "y": 1,
          "yanchor": "bottom",
          "yref": "paper"
         },
         {
          "font": {
           "size": 16
          },
          "showarrow": false,
          "text": "cap-color",
          "x": 0.8555555555555556,
          "xanchor": "center",
          "xref": "paper",
          "y": 1,
          "yanchor": "bottom",
          "yref": "paper"
         },
         {
          "font": {
           "size": 16
          },
          "showarrow": false,
          "text": "bruises",
          "x": 0.14444444444444446,
          "xanchor": "center",
          "xref": "paper",
          "y": 0.8671875,
          "yanchor": "bottom",
          "yref": "paper"
         },
         {
          "font": {
           "size": 16
          },
          "showarrow": false,
          "text": "odor",
          "x": 0.5,
          "xanchor": "center",
          "xref": "paper",
          "y": 0.8671875,
          "yanchor": "bottom",
          "yref": "paper"
         },
         {
          "font": {
           "size": 16
          },
          "showarrow": false,
          "text": "gill-attachment",
          "x": 0.8555555555555556,
          "xanchor": "center",
          "xref": "paper",
          "y": 0.8671875,
          "yanchor": "bottom",
          "yref": "paper"
         },
         {
          "font": {
           "size": 16
          },
          "showarrow": false,
          "text": "gill-spacing",
          "x": 0.14444444444444446,
          "xanchor": "center",
          "xref": "paper",
          "y": 0.734375,
          "yanchor": "bottom",
          "yref": "paper"
         },
         {
          "font": {
           "size": 16
          },
          "showarrow": false,
          "text": "gill-size",
          "x": 0.5,
          "xanchor": "center",
          "xref": "paper",
          "y": 0.734375,
          "yanchor": "bottom",
          "yref": "paper"
         },
         {
          "font": {
           "size": 16
          },
          "showarrow": false,
          "text": "gill-color",
          "x": 0.8555555555555556,
          "xanchor": "center",
          "xref": "paper",
          "y": 0.734375,
          "yanchor": "bottom",
          "yref": "paper"
         },
         {
          "font": {
           "size": 16
          },
          "showarrow": false,
          "text": "stalk-shape",
          "x": 0.14444444444444446,
          "xanchor": "center",
          "xref": "paper",
          "y": 0.6015625,
          "yanchor": "bottom",
          "yref": "paper"
         },
         {
          "font": {
           "size": 16
          },
          "showarrow": false,
          "text": "stalk-root",
          "x": 0.5,
          "xanchor": "center",
          "xref": "paper",
          "y": 0.6015625,
          "yanchor": "bottom",
          "yref": "paper"
         },
         {
          "font": {
           "size": 16
          },
          "showarrow": false,
          "text": "stalk-surface-above-ring",
          "x": 0.8555555555555556,
          "xanchor": "center",
          "xref": "paper",
          "y": 0.6015625,
          "yanchor": "bottom",
          "yref": "paper"
         },
         {
          "font": {
           "size": 16
          },
          "showarrow": false,
          "text": "stalk-surface-below-ring",
          "x": 0.14444444444444446,
          "xanchor": "center",
          "xref": "paper",
          "y": 0.46875,
          "yanchor": "bottom",
          "yref": "paper"
         },
         {
          "font": {
           "size": 16
          },
          "showarrow": false,
          "text": "stalk-color-above-ring",
          "x": 0.5,
          "xanchor": "center",
          "xref": "paper",
          "y": 0.46875,
          "yanchor": "bottom",
          "yref": "paper"
         },
         {
          "font": {
           "size": 16
          },
          "showarrow": false,
          "text": "stalk-color-below-ring",
          "x": 0.8555555555555556,
          "xanchor": "center",
          "xref": "paper",
          "y": 0.46875,
          "yanchor": "bottom",
          "yref": "paper"
         },
         {
          "font": {
           "size": 16
          },
          "showarrow": false,
          "text": "veil-type",
          "x": 0.14444444444444446,
          "xanchor": "center",
          "xref": "paper",
          "y": 0.3359375,
          "yanchor": "bottom",
          "yref": "paper"
         },
         {
          "font": {
           "size": 16
          },
          "showarrow": false,
          "text": "veil-color",
          "x": 0.5,
          "xanchor": "center",
          "xref": "paper",
          "y": 0.3359375,
          "yanchor": "bottom",
          "yref": "paper"
         },
         {
          "font": {
           "size": 16
          },
          "showarrow": false,
          "text": "ring-number",
          "x": 0.8555555555555556,
          "xanchor": "center",
          "xref": "paper",
          "y": 0.3359375,
          "yanchor": "bottom",
          "yref": "paper"
         },
         {
          "font": {
           "size": 16
          },
          "showarrow": false,
          "text": "ring-type",
          "x": 0.14444444444444446,
          "xanchor": "center",
          "xref": "paper",
          "y": 0.203125,
          "yanchor": "bottom",
          "yref": "paper"
         },
         {
          "font": {
           "size": 16
          },
          "showarrow": false,
          "text": "spore-print-color",
          "x": 0.5,
          "xanchor": "center",
          "xref": "paper",
          "y": 0.203125,
          "yanchor": "bottom",
          "yref": "paper"
         },
         {
          "font": {
           "size": 16
          },
          "showarrow": false,
          "text": "population",
          "x": 0.8555555555555556,
          "xanchor": "center",
          "xref": "paper",
          "y": 0.203125,
          "yanchor": "bottom",
          "yref": "paper"
         },
         {
          "font": {
           "size": 16
          },
          "showarrow": false,
          "text": "habitat",
          "x": 0.14444444444444446,
          "xanchor": "center",
          "xref": "paper",
          "y": 0.0703125,
          "yanchor": "bottom",
          "yref": "paper"
         }
        ],
        "height": 1300,
        "showlegend": false,
        "template": {
         "data": {
          "bar": [
           {
            "error_x": {
             "color": "#2a3f5f"
            },
            "error_y": {
             "color": "#2a3f5f"
            },
            "marker": {
             "line": {
              "color": "#E5ECF6",
              "width": 0.5
             },
             "pattern": {
              "fillmode": "overlay",
              "size": 10,
              "solidity": 0.2
             }
            },
            "type": "bar"
           }
          ],
          "barpolar": [
           {
            "marker": {
             "line": {
              "color": "#E5ECF6",
              "width": 0.5
             },
             "pattern": {
              "fillmode": "overlay",
              "size": 10,
              "solidity": 0.2
             }
            },
            "type": "barpolar"
           }
          ],
          "carpet": [
           {
            "aaxis": {
             "endlinecolor": "#2a3f5f",
             "gridcolor": "white",
             "linecolor": "white",
             "minorgridcolor": "white",
             "startlinecolor": "#2a3f5f"
            },
            "baxis": {
             "endlinecolor": "#2a3f5f",
             "gridcolor": "white",
             "linecolor": "white",
             "minorgridcolor": "white",
             "startlinecolor": "#2a3f5f"
            },
            "type": "carpet"
           }
          ],
          "choropleth": [
           {
            "colorbar": {
             "outlinewidth": 0,
             "ticks": ""
            },
            "type": "choropleth"
           }
          ],
          "contour": [
           {
            "colorbar": {
             "outlinewidth": 0,
             "ticks": ""
            },
            "colorscale": [
             [
              0,
              "#0d0887"
             ],
             [
              0.1111111111111111,
              "#46039f"
             ],
             [
              0.2222222222222222,
              "#7201a8"
             ],
             [
              0.3333333333333333,
              "#9c179e"
             ],
             [
              0.4444444444444444,
              "#bd3786"
             ],
             [
              0.5555555555555556,
              "#d8576b"
             ],
             [
              0.6666666666666666,
              "#ed7953"
             ],
             [
              0.7777777777777778,
              "#fb9f3a"
             ],
             [
              0.8888888888888888,
              "#fdca26"
             ],
             [
              1,
              "#f0f921"
             ]
            ],
            "type": "contour"
           }
          ],
          "contourcarpet": [
           {
            "colorbar": {
             "outlinewidth": 0,
             "ticks": ""
            },
            "type": "contourcarpet"
           }
          ],
          "heatmap": [
           {
            "colorbar": {
             "outlinewidth": 0,
             "ticks": ""
            },
            "colorscale": [
             [
              0,
              "#0d0887"
             ],
             [
              0.1111111111111111,
              "#46039f"
             ],
             [
              0.2222222222222222,
              "#7201a8"
             ],
             [
              0.3333333333333333,
              "#9c179e"
             ],
             [
              0.4444444444444444,
              "#bd3786"
             ],
             [
              0.5555555555555556,
              "#d8576b"
             ],
             [
              0.6666666666666666,
              "#ed7953"
             ],
             [
              0.7777777777777778,
              "#fb9f3a"
             ],
             [
              0.8888888888888888,
              "#fdca26"
             ],
             [
              1,
              "#f0f921"
             ]
            ],
            "type": "heatmap"
           }
          ],
          "heatmapgl": [
           {
            "colorbar": {
             "outlinewidth": 0,
             "ticks": ""
            },
            "colorscale": [
             [
              0,
              "#0d0887"
             ],
             [
              0.1111111111111111,
              "#46039f"
             ],
             [
              0.2222222222222222,
              "#7201a8"
             ],
             [
              0.3333333333333333,
              "#9c179e"
             ],
             [
              0.4444444444444444,
              "#bd3786"
             ],
             [
              0.5555555555555556,
              "#d8576b"
             ],
             [
              0.6666666666666666,
              "#ed7953"
             ],
             [
              0.7777777777777778,
              "#fb9f3a"
             ],
             [
              0.8888888888888888,
              "#fdca26"
             ],
             [
              1,
              "#f0f921"
             ]
            ],
            "type": "heatmapgl"
           }
          ],
          "histogram": [
           {
            "marker": {
             "pattern": {
              "fillmode": "overlay",
              "size": 10,
              "solidity": 0.2
             }
            },
            "type": "histogram"
           }
          ],
          "histogram2d": [
           {
            "colorbar": {
             "outlinewidth": 0,
             "ticks": ""
            },
            "colorscale": [
             [
              0,
              "#0d0887"
             ],
             [
              0.1111111111111111,
              "#46039f"
             ],
             [
              0.2222222222222222,
              "#7201a8"
             ],
             [
              0.3333333333333333,
              "#9c179e"
             ],
             [
              0.4444444444444444,
              "#bd3786"
             ],
             [
              0.5555555555555556,
              "#d8576b"
             ],
             [
              0.6666666666666666,
              "#ed7953"
             ],
             [
              0.7777777777777778,
              "#fb9f3a"
             ],
             [
              0.8888888888888888,
              "#fdca26"
             ],
             [
              1,
              "#f0f921"
             ]
            ],
            "type": "histogram2d"
           }
          ],
          "histogram2dcontour": [
           {
            "colorbar": {
             "outlinewidth": 0,
             "ticks": ""
            },
            "colorscale": [
             [
              0,
              "#0d0887"
             ],
             [
              0.1111111111111111,
              "#46039f"
             ],
             [
              0.2222222222222222,
              "#7201a8"
             ],
             [
              0.3333333333333333,
              "#9c179e"
             ],
             [
              0.4444444444444444,
              "#bd3786"
             ],
             [
              0.5555555555555556,
              "#d8576b"
             ],
             [
              0.6666666666666666,
              "#ed7953"
             ],
             [
              0.7777777777777778,
              "#fb9f3a"
             ],
             [
              0.8888888888888888,
              "#fdca26"
             ],
             [
              1,
              "#f0f921"
             ]
            ],
            "type": "histogram2dcontour"
           }
          ],
          "mesh3d": [
           {
            "colorbar": {
             "outlinewidth": 0,
             "ticks": ""
            },
            "type": "mesh3d"
           }
          ],
          "parcoords": [
           {
            "line": {
             "colorbar": {
              "outlinewidth": 0,
              "ticks": ""
             }
            },
            "type": "parcoords"
           }
          ],
          "pie": [
           {
            "automargin": true,
            "type": "pie"
           }
          ],
          "scatter": [
           {
            "fillpattern": {
             "fillmode": "overlay",
             "size": 10,
             "solidity": 0.2
            },
            "type": "scatter"
           }
          ],
          "scatter3d": [
           {
            "line": {
             "colorbar": {
              "outlinewidth": 0,
              "ticks": ""
             }
            },
            "marker": {
             "colorbar": {
              "outlinewidth": 0,
              "ticks": ""
             }
            },
            "type": "scatter3d"
           }
          ],
          "scattercarpet": [
           {
            "marker": {
             "colorbar": {
              "outlinewidth": 0,
              "ticks": ""
             }
            },
            "type": "scattercarpet"
           }
          ],
          "scattergeo": [
           {
            "marker": {
             "colorbar": {
              "outlinewidth": 0,
              "ticks": ""
             }
            },
            "type": "scattergeo"
           }
          ],
          "scattergl": [
           {
            "marker": {
             "colorbar": {
              "outlinewidth": 0,
              "ticks": ""
             }
            },
            "type": "scattergl"
           }
          ],
          "scattermapbox": [
           {
            "marker": {
             "colorbar": {
              "outlinewidth": 0,
              "ticks": ""
             }
            },
            "type": "scattermapbox"
           }
          ],
          "scatterpolar": [
           {
            "marker": {
             "colorbar": {
              "outlinewidth": 0,
              "ticks": ""
             }
            },
            "type": "scatterpolar"
           }
          ],
          "scatterpolargl": [
           {
            "marker": {
             "colorbar": {
              "outlinewidth": 0,
              "ticks": ""
             }
            },
            "type": "scatterpolargl"
           }
          ],
          "scatterternary": [
           {
            "marker": {
             "colorbar": {
              "outlinewidth": 0,
              "ticks": ""
             }
            },
            "type": "scatterternary"
           }
          ],
          "surface": [
           {
            "colorbar": {
             "outlinewidth": 0,
             "ticks": ""
            },
            "colorscale": [
             [
              0,
              "#0d0887"
             ],
             [
              0.1111111111111111,
              "#46039f"
             ],
             [
              0.2222222222222222,
              "#7201a8"
             ],
             [
              0.3333333333333333,
              "#9c179e"
             ],
             [
              0.4444444444444444,
              "#bd3786"
             ],
             [
              0.5555555555555556,
              "#d8576b"
             ],
             [
              0.6666666666666666,
              "#ed7953"
             ],
             [
              0.7777777777777778,
              "#fb9f3a"
             ],
             [
              0.8888888888888888,
              "#fdca26"
             ],
             [
              1,
              "#f0f921"
             ]
            ],
            "type": "surface"
           }
          ],
          "table": [
           {
            "cells": {
             "fill": {
              "color": "#EBF0F8"
             },
             "line": {
              "color": "white"
             }
            },
            "header": {
             "fill": {
              "color": "#C8D4E3"
             },
             "line": {
              "color": "white"
             }
            },
            "type": "table"
           }
          ]
         },
         "layout": {
          "annotationdefaults": {
           "arrowcolor": "#2a3f5f",
           "arrowhead": 0,
           "arrowwidth": 1
          },
          "autotypenumbers": "strict",
          "coloraxis": {
           "colorbar": {
            "outlinewidth": 0,
            "ticks": ""
           }
          },
          "colorscale": {
           "diverging": [
            [
             0,
             "#8e0152"
            ],
            [
             0.1,
             "#c51b7d"
            ],
            [
             0.2,
             "#de77ae"
            ],
            [
             0.3,
             "#f1b6da"
            ],
            [
             0.4,
             "#fde0ef"
            ],
            [
             0.5,
             "#f7f7f7"
            ],
            [
             0.6,
             "#e6f5d0"
            ],
            [
             0.7,
             "#b8e186"
            ],
            [
             0.8,
             "#7fbc41"
            ],
            [
             0.9,
             "#4d9221"
            ],
            [
             1,
             "#276419"
            ]
           ],
           "sequential": [
            [
             0,
             "#0d0887"
            ],
            [
             0.1111111111111111,
             "#46039f"
            ],
            [
             0.2222222222222222,
             "#7201a8"
            ],
            [
             0.3333333333333333,
             "#9c179e"
            ],
            [
             0.4444444444444444,
             "#bd3786"
            ],
            [
             0.5555555555555556,
             "#d8576b"
            ],
            [
             0.6666666666666666,
             "#ed7953"
            ],
            [
             0.7777777777777778,
             "#fb9f3a"
            ],
            [
             0.8888888888888888,
             "#fdca26"
            ],
            [
             1,
             "#f0f921"
            ]
           ],
           "sequentialminus": [
            [
             0,
             "#0d0887"
            ],
            [
             0.1111111111111111,
             "#46039f"
            ],
            [
             0.2222222222222222,
             "#7201a8"
            ],
            [
             0.3333333333333333,
             "#9c179e"
            ],
            [
             0.4444444444444444,
             "#bd3786"
            ],
            [
             0.5555555555555556,
             "#d8576b"
            ],
            [
             0.6666666666666666,
             "#ed7953"
            ],
            [
             0.7777777777777778,
             "#fb9f3a"
            ],
            [
             0.8888888888888888,
             "#fdca26"
            ],
            [
             1,
             "#f0f921"
            ]
           ]
          },
          "colorway": [
           "#636efa",
           "#EF553B",
           "#00cc96",
           "#ab63fa",
           "#FFA15A",
           "#19d3f3",
           "#FF6692",
           "#B6E880",
           "#FF97FF",
           "#FECB52"
          ],
          "font": {
           "color": "#2a3f5f"
          },
          "geo": {
           "bgcolor": "white",
           "lakecolor": "white",
           "landcolor": "#E5ECF6",
           "showlakes": true,
           "showland": true,
           "subunitcolor": "white"
          },
          "hoverlabel": {
           "align": "left"
          },
          "hovermode": "closest",
          "mapbox": {
           "style": "light"
          },
          "paper_bgcolor": "white",
          "plot_bgcolor": "#E5ECF6",
          "polar": {
           "angularaxis": {
            "gridcolor": "white",
            "linecolor": "white",
            "ticks": ""
           },
           "bgcolor": "#E5ECF6",
           "radialaxis": {
            "gridcolor": "white",
            "linecolor": "white",
            "ticks": ""
           }
          },
          "scene": {
           "xaxis": {
            "backgroundcolor": "#E5ECF6",
            "gridcolor": "white",
            "gridwidth": 2,
            "linecolor": "white",
            "showbackground": true,
            "ticks": "",
            "zerolinecolor": "white"
           },
           "yaxis": {
            "backgroundcolor": "#E5ECF6",
            "gridcolor": "white",
            "gridwidth": 2,
            "linecolor": "white",
            "showbackground": true,
            "ticks": "",
            "zerolinecolor": "white"
           },
           "zaxis": {
            "backgroundcolor": "#E5ECF6",
            "gridcolor": "white",
            "gridwidth": 2,
            "linecolor": "white",
            "showbackground": true,
            "ticks": "",
            "zerolinecolor": "white"
           }
          },
          "shapedefaults": {
           "line": {
            "color": "#2a3f5f"
           }
          },
          "ternary": {
           "aaxis": {
            "gridcolor": "white",
            "linecolor": "white",
            "ticks": ""
           },
           "baxis": {
            "gridcolor": "white",
            "linecolor": "white",
            "ticks": ""
           },
           "bgcolor": "#E5ECF6",
           "caxis": {
            "gridcolor": "white",
            "linecolor": "white",
            "ticks": ""
           }
          },
          "title": {
           "x": 0.05
          },
          "xaxis": {
           "automargin": true,
           "gridcolor": "white",
           "linecolor": "white",
           "ticks": "",
           "title": {
            "standoff": 15
           },
           "zerolinecolor": "white",
           "zerolinewidth": 2
          },
          "yaxis": {
           "automargin": true,
           "gridcolor": "white",
           "linecolor": "white",
           "ticks": "",
           "title": {
            "standoff": 15
           },
           "zerolinecolor": "white",
           "zerolinewidth": 2
          }
         }
        },
        "title": {
         "text": "Repartition des modalités des variables qualitatives",
         "x": 0.5
        },
        "width": 1000,
        "xaxis": {
         "anchor": "y",
         "domain": [
          0,
          0.2888888888888889
         ]
        },
        "xaxis10": {
         "anchor": "y10",
         "domain": [
          0,
          0.2888888888888889
         ]
        },
        "xaxis11": {
         "anchor": "y11",
         "domain": [
          0.35555555555555557,
          0.6444444444444445
         ]
        },
        "xaxis12": {
         "anchor": "y12",
         "domain": [
          0.7111111111111111,
          1
         ]
        },
        "xaxis13": {
         "anchor": "y13",
         "domain": [
          0,
          0.2888888888888889
         ]
        },
        "xaxis14": {
         "anchor": "y14",
         "domain": [
          0.35555555555555557,
          0.6444444444444445
         ]
        },
        "xaxis15": {
         "anchor": "y15",
         "domain": [
          0.7111111111111111,
          1
         ]
        },
        "xaxis16": {
         "anchor": "y16",
         "domain": [
          0,
          0.2888888888888889
         ]
        },
        "xaxis17": {
         "anchor": "y17",
         "domain": [
          0.35555555555555557,
          0.6444444444444445
         ]
        },
        "xaxis18": {
         "anchor": "y18",
         "domain": [
          0.7111111111111111,
          1
         ]
        },
        "xaxis19": {
         "anchor": "y19",
         "domain": [
          0,
          0.2888888888888889
         ]
        },
        "xaxis2": {
         "anchor": "y2",
         "domain": [
          0.35555555555555557,
          0.6444444444444445
         ]
        },
        "xaxis20": {
         "anchor": "y20",
         "domain": [
          0.35555555555555557,
          0.6444444444444445
         ]
        },
        "xaxis21": {
         "anchor": "y21",
         "domain": [
          0.7111111111111111,
          1
         ]
        },
        "xaxis22": {
         "anchor": "y22",
         "domain": [
          0,
          0.2888888888888889
         ]
        },
        "xaxis23": {
         "anchor": "y23",
         "domain": [
          0.35555555555555557,
          0.6444444444444445
         ]
        },
        "xaxis24": {
         "anchor": "y24",
         "domain": [
          0.7111111111111111,
          1
         ]
        },
        "xaxis3": {
         "anchor": "y3",
         "domain": [
          0.7111111111111111,
          1
         ]
        },
        "xaxis4": {
         "anchor": "y4",
         "domain": [
          0,
          0.2888888888888889
         ]
        },
        "xaxis5": {
         "anchor": "y5",
         "domain": [
          0.35555555555555557,
          0.6444444444444445
         ]
        },
        "xaxis6": {
         "anchor": "y6",
         "domain": [
          0.7111111111111111,
          1
         ]
        },
        "xaxis7": {
         "anchor": "y7",
         "domain": [
          0,
          0.2888888888888889
         ]
        },
        "xaxis8": {
         "anchor": "y8",
         "domain": [
          0.35555555555555557,
          0.6444444444444445
         ]
        },
        "xaxis9": {
         "anchor": "y9",
         "domain": [
          0.7111111111111111,
          1
         ]
        },
        "yaxis": {
         "anchor": "x",
         "domain": [
          0.9296875,
          1
         ]
        },
        "yaxis10": {
         "anchor": "x10",
         "domain": [
          0.53125,
          0.6015625
         ]
        },
        "yaxis11": {
         "anchor": "x11",
         "domain": [
          0.53125,
          0.6015625
         ]
        },
        "yaxis12": {
         "anchor": "x12",
         "domain": [
          0.53125,
          0.6015625
         ]
        },
        "yaxis13": {
         "anchor": "x13",
         "domain": [
          0.3984375,
          0.46875
         ]
        },
        "yaxis14": {
         "anchor": "x14",
         "domain": [
          0.3984375,
          0.46875
         ]
        },
        "yaxis15": {
         "anchor": "x15",
         "domain": [
          0.3984375,
          0.46875
         ]
        },
        "yaxis16": {
         "anchor": "x16",
         "domain": [
          0.265625,
          0.3359375
         ]
        },
        "yaxis17": {
         "anchor": "x17",
         "domain": [
          0.265625,
          0.3359375
         ]
        },
        "yaxis18": {
         "anchor": "x18",
         "domain": [
          0.265625,
          0.3359375
         ]
        },
        "yaxis19": {
         "anchor": "x19",
         "domain": [
          0.1328125,
          0.203125
         ]
        },
        "yaxis2": {
         "anchor": "x2",
         "domain": [
          0.9296875,
          1
         ]
        },
        "yaxis20": {
         "anchor": "x20",
         "domain": [
          0.1328125,
          0.203125
         ]
        },
        "yaxis21": {
         "anchor": "x21",
         "domain": [
          0.1328125,
          0.203125
         ]
        },
        "yaxis22": {
         "anchor": "x22",
         "domain": [
          0,
          0.0703125
         ]
        },
        "yaxis23": {
         "anchor": "x23",
         "domain": [
          0,
          0.0703125
         ]
        },
        "yaxis24": {
         "anchor": "x24",
         "domain": [
          0,
          0.0703125
         ]
        },
        "yaxis3": {
         "anchor": "x3",
         "domain": [
          0.9296875,
          1
         ]
        },
        "yaxis4": {
         "anchor": "x4",
         "domain": [
          0.796875,
          0.8671875
         ]
        },
        "yaxis5": {
         "anchor": "x5",
         "domain": [
          0.796875,
          0.8671875
         ]
        },
        "yaxis6": {
         "anchor": "x6",
         "domain": [
          0.796875,
          0.8671875
         ]
        },
        "yaxis7": {
         "anchor": "x7",
         "domain": [
          0.6640625,
          0.734375
         ]
        },
        "yaxis8": {
         "anchor": "x8",
         "domain": [
          0.6640625,
          0.734375
         ]
        },
        "yaxis9": {
         "anchor": "x9",
         "domain": [
          0.6640625,
          0.734375
         ]
        }
       }
      }
     },
     "metadata": {},
     "output_type": "display_data"
    }
   ],
   "source": [
    "# Repartition des modalités des variables qualitatives avec plotly \n",
    "from plotly.subplots import make_subplots\n",
    "import plotly.graph_objects as go\n",
    "\n",
    "fig = make_subplots(rows=8, cols=3,\n",
    "                    subplot_titles=('cap-shape', 'cap-surface', 'cap-color', 'bruises', 'odor',\n",
    "                                'gill-attachment', 'gill-spacing', 'gill-size', 'gill-color',\n",
    "                                'stalk-shape', 'stalk-root', 'stalk-surface-above-ring',\n",
    "                                'stalk-surface-below-ring', 'stalk-color-above-ring',\n",
    "                                'stalk-color-below-ring', 'veil-type', 'veil-color', 'ring-number',\n",
    "                                'ring-type', 'spore-print-color', 'population', 'habitat')\n",
    ")\n",
    "\n",
    "fig.add_trace(go.Bar(x=df['cap-shape'].value_counts().index,\n",
    "                        y=df['cap-shape'].value_counts().values),\n",
    "                row=1, col=1)\n",
    "\n",
    "fig.add_trace(go.Bar(x=df['cap-surface'].value_counts().index,\n",
    "                        y=df['cap-surface'].value_counts().values),\n",
    "                row=1, col=2)\n",
    "\n",
    "fig.add_trace(go.Bar(x=df['cap-color'].value_counts().index,\n",
    "                        y=df['cap-color'].value_counts().values),\n",
    "                row=1, col=3)\n",
    "\n",
    "fig.add_trace(go.Bar(x=df['bruises'].value_counts().index,\n",
    "                        y=df['bruises'].value_counts().values),\n",
    "                row=2, col=1)\n",
    "\n",
    "fig.add_trace(go.Bar(x=df['odor'].value_counts().index,\n",
    "                        y=df['odor'].value_counts().values),\n",
    "                row=2, col=2)\n",
    "\n",
    "fig.add_trace(go.Bar(x=df['gill-attachment'].value_counts().index,\n",
    "                        y=df['gill-attachment'].value_counts().values),\n",
    "                row=2, col=3)\n",
    "\n",
    "fig.add_trace(go.Bar(x=df['gill-spacing'].value_counts().index,\n",
    "                        y=df['gill-spacing'].value_counts().values),\n",
    "                row=3, col=1)\n",
    "\n",
    "fig.add_trace(go.Bar(x=df['gill-size'].value_counts().index,\n",
    "                        y=df['gill-size'].value_counts().values),\n",
    "                row=3, col=2)\n",
    "\n",
    "fig.add_trace(go.Bar(x=df['gill-color'].value_counts().index,\n",
    "                        y=df['gill-color'].value_counts().values),\n",
    "                row=3, col=3)\n",
    "\n",
    "fig.add_trace(go.Bar(x=df['stalk-shape'].value_counts().index,\n",
    "                        y=df['stalk-shape'].value_counts().values),\n",
    "                row=4, col=1)\n",
    "\n",
    "fig.add_trace(go.Bar(x=df['stalk-root'].value_counts().index,\n",
    "                        y=df['stalk-root'].value_counts().values),\n",
    "                row=4, col=2)\n",
    "\n",
    "fig.add_trace(go.Bar(x=df['stalk-surface-above-ring'].value_counts().index,\n",
    "                        y=df['stalk-surface-above-ring'].value_counts().values),\n",
    "                row=4, col=3)\n",
    "\n",
    "fig.add_trace(go.Bar(x=df['stalk-surface-below-ring'].value_counts().index,\n",
    "                        y=df['stalk-surface-below-ring'].value_counts().values),\n",
    "                row=5, col=1)\n",
    "\n",
    "fig.add_trace(go.Bar(x=df['stalk-color-above-ring'].value_counts().index,\n",
    "                        y=df['stalk-color-above-ring'].value_counts().values),\n",
    "                row=5, col=2)\n",
    "\n",
    "fig.add_trace(go.Bar(x=df['stalk-color-below-ring'].value_counts().index,\n",
    "                        y=df['stalk-color-below-ring'].value_counts().values),\n",
    "                row=5, col=3)\n",
    "\n",
    "fig.add_trace(go.Bar(x=df['veil-type'].value_counts().index,\n",
    "                        y=df['veil-type'].value_counts().values),\n",
    "                row=6, col=1)\n",
    "\n",
    "fig.add_trace(go.Bar(x=df['veil-color'].value_counts().index,\n",
    "                        y=df['veil-color'].value_counts().values),\n",
    "                row=6, col=2)\n",
    "\n",
    "fig.add_trace(go.Bar(x=df['ring-number'].value_counts().index,\n",
    "                        y=df['ring-number'].value_counts().values),\n",
    "                row=6, col=3)\n",
    "\n",
    "fig.add_trace(go.Bar(x=df['ring-type'].value_counts().index,\n",
    "                        y=df['ring-type'].value_counts().values),\n",
    "                row=7, col=1)\n",
    "\n",
    "fig.add_trace(go.Bar(x=df['spore-print-color'].value_counts().index,\n",
    "                        y=df['spore-print-color'].value_counts().values),\n",
    "                row=7, col=2)\n",
    "\n",
    "fig.add_trace(go.Bar(x=df['population'].value_counts().index,\n",
    "                        y=df['population'].value_counts().values),\n",
    "                row=7, col=3)\n",
    "\n",
    "fig.add_trace(go.Bar(x=df['habitat'].value_counts().index,\n",
    "                        y=df['habitat'].value_counts().values),\n",
    "                row=8, col=1)\n",
    "\n",
    "fig.update_layout(height=1300, width=1000,\n",
    "                 title_text=\"Repartition des modalités des variables qualitatives\",\n",
    "                 title_x=0.5,\n",
    "                 showlegend=False)\n",
    "\n",
    "fig.show()"
   ]
  },
  {
   "cell_type": "markdown",
   "metadata": {},
   "source": [
    "On comprend donc mieux la forte corrélation entre les variables. En effet, elles sont très déséquilibrées dans leurs modalités ce qui implique une forte corrélation entre elles."
   ]
  },
  {
   "cell_type": "code",
   "execution_count": 14,
   "metadata": {},
   "outputs": [
    {
     "data": {
      "image/png": "[encoded data removed]",
      "text/plain": [
       "<Figure size 1500x4000 with 24 Axes>"
      ]
     },
     "metadata": {},
     "output_type": "display_data"
    }
   ],
   "source": [
    "import matplotlib.pyplot as plt\n",
    "import seaborn as sns\n",
    "\n",
    "\n",
    "target_column = 'class'\n",
    "feature_columns = [col for col in df.columns if col != target_column]\n",
    "\n",
    "subplots_per_row = 3\n",
    "num_rows = 8\n",
    "\n",
    "# Créez la figure et les sous-tracés\n",
    "fig, axes = plt.subplots(num_rows, subplots_per_row, figsize=(15, 5 * num_rows))\n",
    "fig.subplots_adjust(hspace=0.5)\n",
    "\n",
    "# Itération sur les colonnes de fonctionnalités\n",
    "for i, column in enumerate(feature_columns):\n",
    "    # Calculez la position du sous-tracé actuel\n",
    "    row = i // subplots_per_row\n",
    "    col = i % subplots_per_row\n",
    "    \n",
    "    # Création d'une table de contingence avec pd.crosstab\n",
    "    crosstab = pd.crosstab(df[column], df[target_column])\n",
    "    \n",
    "    # Tracé du graphique de barres pour la table de contingence\n",
    "    crosstab.plot(kind='bar', stacked=True, ax=axes[row, col], color = (\"#DAA520\",\"teal\"))\n",
    "    axes[row, col].set_title(f'{column}')\n",
    "\n",
    "# Affichez la figure\n",
    "plt.show()"
   ]
  },
  {
   "cell_type": "markdown",
   "metadata": {},
   "source": [
    "Avec ces différents graphiques, nous pouvons constater que la variable class n'est pas toujours uniformément répartie selon les modalités de chaque variable, ce qui implique une forte dépendance entre les variables."
   ]
  },
  {
   "cell_type": "markdown",
   "metadata": {},
   "source": [
    "## IV) Modèles"
   ]
  },
  {
   "cell_type": "code",
   "execution_count": 15,
   "metadata": {},
   "outputs": [],
   "source": [
    "#On sépare notre variable CLASS8Pclass_p des variables explicatives\n",
    "X = dfEncoded.drop(\"class_p\", axis = 1)\n",
    "y = dfEncoded[\"class_p\"]"
   ]
  },
  {
   "cell_type": "code",
   "execution_count": 16,
   "metadata": {},
   "outputs": [],
   "source": [
    "# On divise le dataset en train et test pour nos modèles\n",
    "X_train, X_test, y_train, y_test = train_test_split(X, y, test_size=0.2, random_state=42, shuffle = True)"
   ]
  },
  {
   "cell_type": "code",
   "execution_count": 17,
   "metadata": {},
   "outputs": [],
   "source": [
    "#Standardiser les features\n",
    "scaler = StandardScaler()\n",
    "scaler.fit(X_train)\n",
    "# On transforme X_train et X_test avec le calcul de moyenne et std du X_train\n",
    "X_train_sc = scaler.transform(X_train)\n",
    "X_test_sc = scaler.transform(X_test)"
   ]
  },
  {
   "cell_type": "code",
   "execution_count": 18,
   "metadata": {},
   "outputs": [
    {
     "data": {
      "text/plain": [
       "class_p\n",
       "0    3365\n",
       "1    3134\n",
       "Name: count, dtype: int64"
      ]
     },
     "execution_count": 18,
     "metadata": {},
     "output_type": "execute_result"
    }
   ],
   "source": [
    "y_train.value_counts()\n",
    "#Il y a une bonne répartition des modalités de la variable cible"
   ]
  },
  {
   "cell_type": "code",
   "execution_count": 19,
   "metadata": {},
   "outputs": [
    {
     "data": {
      "text/plain": [
       "class_p\n",
       "0    843\n",
       "1    782\n",
       "Name: count, dtype: int64"
      ]
     },
     "execution_count": 19,
     "metadata": {},
     "output_type": "execute_result"
    }
   ],
   "source": [
    "y_test.value_counts()\n",
    "#Il y a une bonne répartition des modalités de la variable cible"
   ]
  },
  {
   "cell_type": "markdown",
   "metadata": {},
   "source": [
    "Nous pouvons maintenant mettre en place des modèles pour essayer de prédire la variable \"class\". Nous commençons par modéliser un arbre de décision car c'est un modèle qui, s'il est performant pour prédire la comestibilité des champignons, est facile à interpréter. "
   ]
  },
  {
   "cell_type": "markdown",
   "metadata": {},
   "source": [
    "### 1) Arbre de décision"
   ]
  },
  {
   "cell_type": "code",
   "execution_count": 20,
   "metadata": {},
   "outputs": [],
   "source": [
    "tree = DecisionTreeClassifier(\n",
    "    max_depth=3, #Profondeur de l'arbre\n",
    "    min_samples_split=2, #Nombre d'individus pour créer un noeud\n",
    "    min_samples_leaf=1, #Nombre d'individus pour créer une feuille\n",
    "    splitter='best', #Choix du split\n",
    "    random_state=42,\n",
    "    )\n",
    "\n",
    "# On entraine notre modèle\n",
    "tree.fit(X_train_sc, y_train)\n",
    "\n",
    "# On prédit les valeurs de y pour X_test\n",
    "y_pred = tree.predict(X_test_sc)"
   ]
  },
  {
   "cell_type": "code",
   "execution_count": 21,
   "metadata": {},
   "outputs": [
    {
     "name": "stdout",
     "output_type": "stream",
     "text": [
      "Accuracy: 0.98\n",
      "              precision    recall  f1-score   support\n",
      "\n",
      "           0       1.00      0.96      0.98       843\n",
      "           1       0.96      1.00      0.98       782\n",
      "\n",
      "    accuracy                           0.98      1625\n",
      "   macro avg       0.98      0.98      0.98      1625\n",
      "weighted avg       0.98      0.98      0.98      1625\n",
      "\n"
     ]
    },
    {
     "data": {
      "image/png": "[encoded data removed]",
      "text/plain": [
       "<Figure size 640x480 with 2 Axes>"
      ]
     },
     "metadata": {},
     "output_type": "display_data"
    }
   ],
   "source": [
    "# On fait une matrice de confusion pour voir où le modèle se trompe\n",
    "cm_tree = evaluate_model(tree, X_test_sc, y_test)\n",
    "cm_tree"
   ]
  },
  {
   "cell_type": "markdown",
   "metadata": {},
   "source": [
    "Avec ce premier arbre, nous avons déjà des resultats très intéressants avec une accuracy et un F1_score de 98%. Nous allons donc optimiser les paramètres à l'aide d'un Grid Search afin d'améliorer les performances de l'arbre."
   ]
  },
  {
   "cell_type": "code",
   "execution_count": 22,
   "metadata": {},
   "outputs": [],
   "source": [
    "parameter_grid = { #liste des paramètres qui seront tester\n",
    "    'max_depth': (2, 4, 6, 8, 10),\n",
    "    'min_samples_split': (2, 4, 6, 8, 10),\n",
    "    'min_samples_leaf': (1, 2, 3, 4, 5, 6, 7, 8),\n",
    "    'splitter' : ('best', 'random'),\n",
    "    'criterion' : ('gini','entropy')\n",
    "}\n",
    "\n",
    "tree = DecisionTreeClassifier(random_state=42)\n",
    "\n",
    "gridSearch_tree = GridSearchCV(estimator=tree,\n",
    "                param_grid=parameter_grid,\n",
    "                cv=10,\n",
    "                n_jobs=-1,\n",
    "                verbose=1)"
   ]
  },
  {
   "cell_type": "code",
   "execution_count": 23,
   "metadata": {},
   "outputs": [
    {
     "name": "stdout",
     "output_type": "stream",
     "text": [
      "Fitting 10 folds for each of 800 candidates, totalling 8000 fits\n",
      "1.0\n",
      "{'criterion': 'gini', 'max_depth': 8, 'min_samples_leaf': 2, 'min_samples_split': 2, 'splitter': 'best'}\n"
     ]
    }
   ],
   "source": [
    "#visualisation des résultats\n",
    "gridSearch_tree.fit(X_train_sc, y_train) #\n",
    "\n",
    "print(gridSearch_tree.best_score_) # Meilleur score\n",
    "print(gridSearch_tree.best_params_) # Meilleurs paramètres"
   ]
  },
  {
   "cell_type": "code",
   "execution_count": 24,
   "metadata": {},
   "outputs": [
    {
     "data": {
      "text/html": [
       "<div>\n",
       "<style scoped>\n",
       "    .dataframe tbody tr th:only-of-type {\n",
       "        vertical-align: middle;\n",
       "    }\n",
       "\n",
       "    .dataframe tbody tr th {\n",
       "        vertical-align: top;\n",
       "    }\n",
       "\n",
       "    .dataframe thead th {\n",
       "        text-align: right;\n",
       "    }\n",
       "</style>\n",
       "<table border=\"1\" class=\"dataframe\">\n",
       "  <thead>\n",
       "    <tr style=\"text-align: right;\">\n",
       "      <th></th>\n",
       "      <th>mean_fit_time</th>\n",
       "      <th>std_fit_time</th>\n",
       "      <th>mean_score_time</th>\n",
       "      <th>std_score_time</th>\n",
       "      <th>param_criterion</th>\n",
       "      <th>param_max_depth</th>\n",
       "      <th>param_min_samples_leaf</th>\n",
       "      <th>param_min_samples_split</th>\n",
       "      <th>param_splitter</th>\n",
       "      <th>params</th>\n",
       "      <th>...</th>\n",
       "      <th>split3_test_score</th>\n",
       "      <th>split4_test_score</th>\n",
       "      <th>split5_test_score</th>\n",
       "      <th>split6_test_score</th>\n",
       "      <th>split7_test_score</th>\n",
       "      <th>split8_test_score</th>\n",
       "      <th>split9_test_score</th>\n",
       "      <th>mean_test_score</th>\n",
       "      <th>std_test_score</th>\n",
       "      <th>rank_test_score</th>\n",
       "    </tr>\n",
       "  </thead>\n",
       "  <tbody>\n",
       "    <tr>\n",
       "      <th>604</th>\n",
       "      <td>0.070831</td>\n",
       "      <td>0.019892</td>\n",
       "      <td>0.006385</td>\n",
       "      <td>0.005284</td>\n",
       "      <td>entropy</td>\n",
       "      <td>6</td>\n",
       "      <td>5</td>\n",
       "      <td>6</td>\n",
       "      <td>best</td>\n",
       "      <td>{'criterion': 'entropy', 'max_depth': 6, 'min_...</td>\n",
       "      <td>...</td>\n",
       "      <td>1.0</td>\n",
       "      <td>1.0</td>\n",
       "      <td>1.0</td>\n",
       "      <td>1.0</td>\n",
       "      <td>1.0</td>\n",
       "      <td>1.0</td>\n",
       "      <td>1.0</td>\n",
       "      <td>1.0</td>\n",
       "      <td>0.0</td>\n",
       "      <td>1</td>\n",
       "    </tr>\n",
       "    <tr>\n",
       "      <th>642</th>\n",
       "      <td>0.081762</td>\n",
       "      <td>0.020617</td>\n",
       "      <td>0.003291</td>\n",
       "      <td>0.000778</td>\n",
       "      <td>entropy</td>\n",
       "      <td>8</td>\n",
       "      <td>1</td>\n",
       "      <td>4</td>\n",
       "      <td>best</td>\n",
       "      <td>{'criterion': 'entropy', 'max_depth': 8, 'min_...</td>\n",
       "      <td>...</td>\n",
       "      <td>1.0</td>\n",
       "      <td>1.0</td>\n",
       "      <td>1.0</td>\n",
       "      <td>1.0</td>\n",
       "      <td>1.0</td>\n",
       "      <td>1.0</td>\n",
       "      <td>1.0</td>\n",
       "      <td>1.0</td>\n",
       "      <td>0.0</td>\n",
       "      <td>1</td>\n",
       "    </tr>\n",
       "    <tr>\n",
       "      <th>641</th>\n",
       "      <td>0.116609</td>\n",
       "      <td>0.022199</td>\n",
       "      <td>0.005286</td>\n",
       "      <td>0.006035</td>\n",
       "      <td>entropy</td>\n",
       "      <td>8</td>\n",
       "      <td>1</td>\n",
       "      <td>2</td>\n",
       "      <td>random</td>\n",
       "      <td>{'criterion': 'entropy', 'max_depth': 8, 'min_...</td>\n",
       "      <td>...</td>\n",
       "      <td>1.0</td>\n",
       "      <td>1.0</td>\n",
       "      <td>1.0</td>\n",
       "      <td>1.0</td>\n",
       "      <td>1.0</td>\n",
       "      <td>1.0</td>\n",
       "      <td>1.0</td>\n",
       "      <td>1.0</td>\n",
       "      <td>0.0</td>\n",
       "      <td>1</td>\n",
       "    </tr>\n",
       "    <tr>\n",
       "      <th>640</th>\n",
       "      <td>0.059911</td>\n",
       "      <td>0.011919</td>\n",
       "      <td>0.005638</td>\n",
       "      <td>0.007795</td>\n",
       "      <td>entropy</td>\n",
       "      <td>8</td>\n",
       "      <td>1</td>\n",
       "      <td>2</td>\n",
       "      <td>best</td>\n",
       "      <td>{'criterion': 'entropy', 'max_depth': 8, 'min_...</td>\n",
       "      <td>...</td>\n",
       "      <td>1.0</td>\n",
       "      <td>1.0</td>\n",
       "      <td>1.0</td>\n",
       "      <td>1.0</td>\n",
       "      <td>1.0</td>\n",
       "      <td>1.0</td>\n",
       "      <td>1.0</td>\n",
       "      <td>1.0</td>\n",
       "      <td>0.0</td>\n",
       "      <td>1</td>\n",
       "    </tr>\n",
       "    <tr>\n",
       "      <th>339</th>\n",
       "      <td>0.112751</td>\n",
       "      <td>0.029722</td>\n",
       "      <td>0.003857</td>\n",
       "      <td>0.001596</td>\n",
       "      <td>gini</td>\n",
       "      <td>10</td>\n",
       "      <td>2</td>\n",
       "      <td>10</td>\n",
       "      <td>random</td>\n",
       "      <td>{'criterion': 'gini', 'max_depth': 10, 'min_sa...</td>\n",
       "      <td>...</td>\n",
       "      <td>1.0</td>\n",
       "      <td>1.0</td>\n",
       "      <td>1.0</td>\n",
       "      <td>1.0</td>\n",
       "      <td>1.0</td>\n",
       "      <td>1.0</td>\n",
       "      <td>1.0</td>\n",
       "      <td>1.0</td>\n",
       "      <td>0.0</td>\n",
       "      <td>1</td>\n",
       "    </tr>\n",
       "  </tbody>\n",
       "</table>\n",
       "<p>5 rows × 23 columns</p>\n",
       "</div>"
      ],
      "text/plain": [
       "     mean_fit_time  std_fit_time  mean_score_time  std_score_time  \\\n",
       "604       0.070831      0.019892         0.006385        0.005284   \n",
       "642       0.081762      0.020617         0.003291        0.000778   \n",
       "641       0.116609      0.022199         0.005286        0.006035   \n",
       "640       0.059911      0.011919         0.005638        0.007795   \n",
       "339       0.112751      0.029722         0.003857        0.001596   \n",
       "\n",
       "    param_criterion param_max_depth param_min_samples_leaf  \\\n",
       "604         entropy               6                      5   \n",
       "642         entropy               8                      1   \n",
       "641         entropy               8                      1   \n",
       "640         entropy               8                      1   \n",
       "339            gini              10                      2   \n",
       "\n",
       "    param_min_samples_split param_splitter  \\\n",
       "604                       6           best   \n",
       "642                       4           best   \n",
       "641                       2         random   \n",
       "640                       2           best   \n",
       "339                      10         random   \n",
       "\n",
       "                                                params  ...  \\\n",
       "604  {'criterion': 'entropy', 'max_depth': 6, 'min_...  ...   \n",
       "642  {'criterion': 'entropy', 'max_depth': 8, 'min_...  ...   \n",
       "641  {'criterion': 'entropy', 'max_depth': 8, 'min_...  ...   \n",
       "640  {'criterion': 'entropy', 'max_depth': 8, 'min_...  ...   \n",
       "339  {'criterion': 'gini', 'max_depth': 10, 'min_sa...  ...   \n",
       "\n",
       "     split3_test_score  split4_test_score  split5_test_score  \\\n",
       "604                1.0                1.0                1.0   \n",
       "642                1.0                1.0                1.0   \n",
       "641                1.0                1.0                1.0   \n",
       "640                1.0                1.0                1.0   \n",
       "339                1.0                1.0                1.0   \n",
       "\n",
       "     split6_test_score  split7_test_score  split8_test_score  \\\n",
       "604                1.0                1.0                1.0   \n",
       "642                1.0                1.0                1.0   \n",
       "641                1.0                1.0                1.0   \n",
       "640                1.0                1.0                1.0   \n",
       "339                1.0                1.0                1.0   \n",
       "\n",
       "     split9_test_score  mean_test_score  std_test_score  rank_test_score  \n",
       "604                1.0              1.0             0.0                1  \n",
       "642                1.0              1.0             0.0                1  \n",
       "641                1.0              1.0             0.0                1  \n",
       "640                1.0              1.0             0.0                1  \n",
       "339                1.0              1.0             0.0                1  \n",
       "\n",
       "[5 rows x 23 columns]"
      ]
     },
     "execution_count": 24,
     "metadata": {},
     "output_type": "execute_result"
    }
   ],
   "source": [
    "#On présente un dataframe qui recense les 5 meilleurs modèles avec leurs paramètres associés\n",
    "pd.DataFrame(gridSearch_tree.cv_results_\n",
    "             ).sort_values(by='rank_test_score'\n",
    "                           ).head(5)"
   ]
  },
  {
   "cell_type": "code",
   "execution_count": 25,
   "metadata": {},
   "outputs": [
    {
     "data": {
      "text/html": [
       "<div>\n",
       "<style scoped>\n",
       "    .dataframe tbody tr th:only-of-type {\n",
       "        vertical-align: middle;\n",
       "    }\n",
       "\n",
       "    .dataframe tbody tr th {\n",
       "        vertical-align: top;\n",
       "    }\n",
       "\n",
       "    .dataframe thead th {\n",
       "        text-align: right;\n",
       "    }\n",
       "</style>\n",
       "<table border=\"1\" class=\"dataframe\">\n",
       "  <thead>\n",
       "    <tr style=\"text-align: right;\">\n",
       "      <th></th>\n",
       "      <th>params</th>\n",
       "      <th>rank_test_score</th>\n",
       "      <th>mean_test_score</th>\n",
       "      <th>std_test_score</th>\n",
       "    </tr>\n",
       "    <tr>\n",
       "      <th>kernel</th>\n",
       "      <th></th>\n",
       "      <th></th>\n",
       "      <th></th>\n",
       "      <th></th>\n",
       "    </tr>\n",
       "  </thead>\n",
       "  <tbody>\n",
       "    <tr>\n",
       "      <th>entropy_6_5_6_best</th>\n",
       "      <td>{'criterion': 'entropy', 'max_depth': 6, 'min_...</td>\n",
       "      <td>1</td>\n",
       "      <td>1.000000</td>\n",
       "      <td>0.000000</td>\n",
       "    </tr>\n",
       "    <tr>\n",
       "      <th>entropy_8_1_4_best</th>\n",
       "      <td>{'criterion': 'entropy', 'max_depth': 8, 'min_...</td>\n",
       "      <td>1</td>\n",
       "      <td>1.000000</td>\n",
       "      <td>0.000000</td>\n",
       "    </tr>\n",
       "    <tr>\n",
       "      <th>entropy_8_1_2_random</th>\n",
       "      <td>{'criterion': 'entropy', 'max_depth': 8, 'min_...</td>\n",
       "      <td>1</td>\n",
       "      <td>1.000000</td>\n",
       "      <td>0.000000</td>\n",
       "    </tr>\n",
       "    <tr>\n",
       "      <th>entropy_8_1_2_best</th>\n",
       "      <td>{'criterion': 'entropy', 'max_depth': 8, 'min_...</td>\n",
       "      <td>1</td>\n",
       "      <td>1.000000</td>\n",
       "      <td>0.000000</td>\n",
       "    </tr>\n",
       "    <tr>\n",
       "      <th>gini_10_2_10_random</th>\n",
       "      <td>{'criterion': 'gini', 'max_depth': 10, 'min_sa...</td>\n",
       "      <td>1</td>\n",
       "      <td>1.000000</td>\n",
       "      <td>0.000000</td>\n",
       "    </tr>\n",
       "    <tr>\n",
       "      <th>...</th>\n",
       "      <td>...</td>\n",
       "      <td>...</td>\n",
       "      <td>...</td>\n",
       "      <td>...</td>\n",
       "    </tr>\n",
       "    <tr>\n",
       "      <th>entropy_2_7_6_random</th>\n",
       "      <td>{'criterion': 'entropy', 'max_depth': 2, 'min_...</td>\n",
       "      <td>721</td>\n",
       "      <td>0.928604</td>\n",
       "      <td>0.006616</td>\n",
       "    </tr>\n",
       "    <tr>\n",
       "      <th>entropy_2_7_8_best</th>\n",
       "      <td>{'criterion': 'entropy', 'max_depth': 2, 'min_...</td>\n",
       "      <td>721</td>\n",
       "      <td>0.928604</td>\n",
       "      <td>0.006616</td>\n",
       "    </tr>\n",
       "    <tr>\n",
       "      <th>entropy_2_7_8_random</th>\n",
       "      <td>{'criterion': 'entropy', 'max_depth': 2, 'min_...</td>\n",
       "      <td>721</td>\n",
       "      <td>0.928604</td>\n",
       "      <td>0.006616</td>\n",
       "    </tr>\n",
       "    <tr>\n",
       "      <th>entropy_2_1_10_random</th>\n",
       "      <td>{'criterion': 'entropy', 'max_depth': 2, 'min_...</td>\n",
       "      <td>721</td>\n",
       "      <td>0.928604</td>\n",
       "      <td>0.006616</td>\n",
       "    </tr>\n",
       "    <tr>\n",
       "      <th>entropy_2_2_2_best</th>\n",
       "      <td>{'criterion': 'entropy', 'max_depth': 2, 'min_...</td>\n",
       "      <td>721</td>\n",
       "      <td>0.928604</td>\n",
       "      <td>0.006616</td>\n",
       "    </tr>\n",
       "  </tbody>\n",
       "</table>\n",
       "<p>800 rows × 4 columns</p>\n",
       "</div>"
      ],
      "text/plain": [
       "                                                                  params  \\\n",
       "kernel                                                                     \n",
       "entropy_6_5_6_best     {'criterion': 'entropy', 'max_depth': 6, 'min_...   \n",
       "entropy_8_1_4_best     {'criterion': 'entropy', 'max_depth': 8, 'min_...   \n",
       "entropy_8_1_2_random   {'criterion': 'entropy', 'max_depth': 8, 'min_...   \n",
       "entropy_8_1_2_best     {'criterion': 'entropy', 'max_depth': 8, 'min_...   \n",
       "gini_10_2_10_random    {'criterion': 'gini', 'max_depth': 10, 'min_sa...   \n",
       "...                                                                  ...   \n",
       "entropy_2_7_6_random   {'criterion': 'entropy', 'max_depth': 2, 'min_...   \n",
       "entropy_2_7_8_best     {'criterion': 'entropy', 'max_depth': 2, 'min_...   \n",
       "entropy_2_7_8_random   {'criterion': 'entropy', 'max_depth': 2, 'min_...   \n",
       "entropy_2_1_10_random  {'criterion': 'entropy', 'max_depth': 2, 'min_...   \n",
       "entropy_2_2_2_best     {'criterion': 'entropy', 'max_depth': 2, 'min_...   \n",
       "\n",
       "                       rank_test_score  mean_test_score  std_test_score  \n",
       "kernel                                                                   \n",
       "entropy_6_5_6_best                   1         1.000000        0.000000  \n",
       "entropy_8_1_4_best                   1         1.000000        0.000000  \n",
       "entropy_8_1_2_random                 1         1.000000        0.000000  \n",
       "entropy_8_1_2_best                   1         1.000000        0.000000  \n",
       "gini_10_2_10_random                  1         1.000000        0.000000  \n",
       "...                                ...              ...             ...  \n",
       "entropy_2_7_6_random               721         0.928604        0.006616  \n",
       "entropy_2_7_8_best                 721         0.928604        0.006616  \n",
       "entropy_2_7_8_random               721         0.928604        0.006616  \n",
       "entropy_2_1_10_random              721         0.928604        0.006616  \n",
       "entropy_2_2_2_best                 721         0.928604        0.006616  \n",
       "\n",
       "[800 rows x 4 columns]"
      ]
     },
     "execution_count": 25,
     "metadata": {},
     "output_type": "execute_result"
    }
   ],
   "source": [
    "#Enregistrer tous les arbres\n",
    "results_grid_tree = pd.DataFrame(gridSearch_tree.cv_results_)\n",
    "results_grid_tree = results_grid_tree.sort_values(by=[\"rank_test_score\"])\n",
    "results_grid_tree = results_grid_tree.set_index(results_grid_tree[\"params\"]\\\n",
    "                                  .apply(lambda x: \"_\".join(str(val) for val in x.values()))\n",
    "                                  ).rename_axis(\"kernel\")\n",
    "\n",
    "results_grid_tree[[\"params\", \"rank_test_score\", \"mean_test_score\", \"std_test_score\"]]\n",
    "# results_grid_tree.to_csv('grid_tree1.csv', index=True, sep = \";\")"
   ]
  },
  {
   "cell_type": "markdown",
   "metadata": {},
   "source": [
    "On réalise l'arbre avec les paramètres optimaux."
   ]
  },
  {
   "cell_type": "code",
   "execution_count": 26,
   "metadata": {},
   "outputs": [],
   "source": [
    "tree_final = DecisionTreeClassifier(\n",
    "    max_depth=8,\n",
    "    min_samples_split=2,\n",
    "    min_samples_leaf=3,\n",
    "    splitter='best',\n",
    "    criterion='gini',\n",
    "    random_state=42,\n",
    "    )\n",
    "\n",
    "# On entraine notre modèle\n",
    "tree_final.fit(X_train_sc, y_train)\n",
    "\n",
    "# On prédit les valeurs de y pour X_test\n",
    "y_pred = tree_final.predict(X_test_sc)"
   ]
  },
  {
   "cell_type": "code",
   "execution_count": 27,
   "metadata": {},
   "outputs": [
    {
     "name": "stdout",
     "output_type": "stream",
     "text": [
      "Accuracy: 1.00\n",
      "              precision    recall  f1-score   support\n",
      "\n",
      "           0       1.00      1.00      1.00       843\n",
      "           1       1.00      1.00      1.00       782\n",
      "\n",
      "    accuracy                           1.00      1625\n",
      "   macro avg       1.00      1.00      1.00      1625\n",
      "weighted avg       1.00      1.00      1.00      1625\n",
      "\n"
     ]
    },
    {
     "data": {
      "image/png": "[encoded data removed]",
      "text/plain": [
       "<Figure size 640x480 with 2 Axes>"
      ]
     },
     "metadata": {},
     "output_type": "display_data"
    }
   ],
   "source": [
    "cm_tree_final = evaluate_model(tree_final, X_test_sc, y_test)\n",
    "cm_tree_final"
   ]
  },
  {
   "cell_type": "markdown",
   "metadata": {},
   "source": [
    "Avec les paramètres optimisés, l'arbre prédit parfaitement la comestibilité des champignons.\n",
    "Nous allons aussi présenter un Random Forest pour comparer les résultats avec l'arbre de décision."
   ]
  },
  {
   "cell_type": "markdown",
   "metadata": {},
   "source": [
    "### Random Forest"
   ]
  },
  {
   "cell_type": "code",
   "execution_count": 28,
   "metadata": {},
   "outputs": [],
   "source": [
    "# On crée notre modèle\n",
    "rf = RandomForestClassifier(n_estimators=100,\n",
    "                            max_depth=10,\n",
    "                            min_samples_split=2,\n",
    "                            min_samples_leaf=1,\n",
    "                            random_state=42)\n",
    "\n",
    "# On entraine notre modèle\n",
    "rf.fit(X_train_sc, y_train)\n",
    "\n",
    "# On prédit les valeurs de la variable cible pour les données de test\n",
    "y_pred = rf.predict(X_test_sc)"
   ]
  },
  {
   "cell_type": "code",
   "execution_count": 29,
   "metadata": {},
   "outputs": [
    {
     "name": "stdout",
     "output_type": "stream",
     "text": [
      "Accuracy: 1.00\n",
      "              precision    recall  f1-score   support\n",
      "\n",
      "           0       1.00      1.00      1.00       843\n",
      "           1       1.00      1.00      1.00       782\n",
      "\n",
      "    accuracy                           1.00      1625\n",
      "   macro avg       1.00      1.00      1.00      1625\n",
      "weighted avg       1.00      1.00      1.00      1625\n",
      "\n"
     ]
    },
    {
     "data": {
      "image/png": "[encoded data removed]",
      "text/plain": [
       "<Figure size 640x480 with 2 Axes>"
      ]
     },
     "metadata": {},
     "output_type": "display_data"
    }
   ],
   "source": [
    "cm_forest = evaluate_model(rf, X_test_sc, y_test)\n",
    "cm_forest"
   ]
  },
  {
   "cell_type": "markdown",
   "metadata": {},
   "source": [
    "Cette fois-ci, le modèle prédit parfaitement la comestibilité des champignons, sans Grid Search."
   ]
  },
  {
   "cell_type": "markdown",
   "metadata": {},
   "source": [
    "Nous avons donc vu que des modèles basiques peuvent déjà prédire la comestibilité des champignons. Nous pourrions nous arrêter là mais, pour le projet, nous allons modélier un réseau de neurones et un SVM, bien que ces méthodes soient plus complexes qu'un arbre et moins interprétables."
   ]
  },
  {
   "cell_type": "markdown",
   "metadata": {},
   "source": [
    "## V) Réseau de neurones"
   ]
  },
  {
   "cell_type": "markdown",
   "metadata": {},
   "source": [
    "Nous avons commencé par modélisé un réseau de neurones avec 1 seule couche cachée, car, au vu des données, nous ne pensons pas nécessaire de mettre trop de couches cachées pour obtenir de bons résultats prédictifs."
   ]
  },
  {
   "cell_type": "code",
   "execution_count": 30,
   "metadata": {},
   "outputs": [
    {
     "name": "stdout",
     "output_type": "stream",
     "text": [
      "WARNING:tensorflow:From c:\\Users\\mathi\\anaconda3\\envs\\svm_01\\Lib\\site-packages\\keras\\src\\backend.py:873: The name tf.get_default_graph is deprecated. Please use tf.compat.v1.get_default_graph instead.\n",
      "\n",
      "WARNING:tensorflow:From c:\\Users\\mathi\\anaconda3\\envs\\svm_01\\Lib\\site-packages\\keras\\src\\optimizers\\__init__.py:309: The name tf.train.Optimizer is deprecated. Please use tf.compat.v1.train.Optimizer instead.\n",
      "\n",
      "Model: \"sequential\"\n",
      "_________________________________________________________________\n",
      " Layer (type)                Output Shape              Param #   \n",
      "=================================================================\n",
      " dense (Dense)               (None, 50)                4800      \n",
      "                                                                 \n",
      " dense_1 (Dense)             (None, 1)                 51        \n",
      "                                                                 \n",
      "=================================================================\n",
      "Total params: 4851 (18.95 KB)\n",
      "Trainable params: 4851 (18.95 KB)\n",
      "Non-trainable params: 0 (0.00 Byte)\n",
      "_________________________________________________________________\n",
      "None\n"
     ]
    }
   ],
   "source": [
    "# Le réseau de neurones est constitué d'un couche cachée avec une fonction d'activation \"tanh\" et une couche de sortie qui sort une valeur avec la fonction d'activation sigmoid\n",
    "np.random.seed(42)\n",
    "model0 = Sequential()\n",
    "model0.add(Dense(50, input_dim = X_train.shape[1], activation=\"tanh\")) # 50 unités de couches cachées\n",
    "model0.add(Dense(1, activation=\"sigmoid\")) # 1 classe finale\n",
    "model0.compile(loss = \"binary_crossentropy\", optimizer=\"adam\", metrics=[\"accuracy\"])\n",
    "\n",
    "print(model0.summary())"
   ]
  },
  {
   "cell_type": "code",
   "execution_count": 31,
   "metadata": {},
   "outputs": [
    {
     "name": "stdout",
     "output_type": "stream",
     "text": [
      "Epoch 1/60\n",
      "WARNING:tensorflow:From c:\\Users\\mathi\\anaconda3\\envs\\svm_01\\Lib\\site-packages\\keras\\src\\utils\\tf_utils.py:492: The name tf.ragged.RaggedTensorValue is deprecated. Please use tf.compat.v1.ragged.RaggedTensorValue instead.\n",
      "\n",
      "WARNING:tensorflow:From c:\\Users\\mathi\\anaconda3\\envs\\svm_01\\Lib\\site-packages\\keras\\src\\engine\\base_layer_utils.py:384: The name tf.executing_eagerly_outside_functions is deprecated. Please use tf.compat.v1.executing_eagerly_outside_functions instead.\n",
      "\n",
      "21/21 [==============================] - 2s 20ms/step - loss: 0.5586 - accuracy: 0.7173 - val_loss: 0.2715 - val_accuracy: 0.9554\n",
      "Epoch 2/60\n",
      "21/21 [==============================] - 0s 6ms/step - loss: 0.1954 - accuracy: 0.9635 - val_loss: 0.1340 - val_accuracy: 0.9738\n",
      "Epoch 3/60\n",
      "21/21 [==============================] - 0s 4ms/step - loss: 0.1062 - accuracy: 0.9827 - val_loss: 0.0844 - val_accuracy: 0.9862\n",
      "Epoch 4/60\n",
      "21/21 [==============================] - 0s 3ms/step - loss: 0.0683 - accuracy: 0.9938 - val_loss: 0.0589 - val_accuracy: 0.9938\n",
      "Epoch 5/60\n",
      "21/21 [==============================] - 0s 3ms/step - loss: 0.0473 - accuracy: 0.9975 - val_loss: 0.0439 - val_accuracy: 0.9962\n",
      "Epoch 6/60\n",
      "21/21 [==============================] - 0s 3ms/step - loss: 0.0347 - accuracy: 0.9985 - val_loss: 0.0342 - val_accuracy: 0.9977\n",
      "Epoch 7/60\n",
      "21/21 [==============================] - 0s 4ms/step - loss: 0.0264 - accuracy: 0.9996 - val_loss: 0.0274 - val_accuracy: 0.9977\n",
      "Epoch 8/60\n",
      "21/21 [==============================] - 0s 4ms/step - loss: 0.0207 - accuracy: 0.9998 - val_loss: 0.0230 - val_accuracy: 0.9985\n",
      "Epoch 9/60\n",
      "21/21 [==============================] - 0s 4ms/step - loss: 0.0168 - accuracy: 0.9998 - val_loss: 0.0198 - val_accuracy: 0.9985\n",
      "Epoch 10/60\n",
      "21/21 [==============================] - 0s 5ms/step - loss: 0.0139 - accuracy: 0.9998 - val_loss: 0.0173 - val_accuracy: 0.9985\n",
      "Epoch 11/60\n",
      "21/21 [==============================] - 0s 5ms/step - loss: 0.0117 - accuracy: 0.9998 - val_loss: 0.0155 - val_accuracy: 0.9985\n",
      "Epoch 12/60\n",
      "21/21 [==============================] - 0s 4ms/step - loss: 0.0100 - accuracy: 0.9998 - val_loss: 0.0140 - val_accuracy: 0.9985\n",
      "Epoch 13/60\n",
      "21/21 [==============================] - 0s 3ms/step - loss: 0.0087 - accuracy: 0.9998 - val_loss: 0.0130 - val_accuracy: 0.9985\n",
      "Epoch 14/60\n",
      "21/21 [==============================] - 0s 3ms/step - loss: 0.0077 - accuracy: 0.9998 - val_loss: 0.0119 - val_accuracy: 0.9985\n",
      "Epoch 15/60\n",
      "21/21 [==============================] - 0s 3ms/step - loss: 0.0068 - accuracy: 0.9998 - val_loss: 0.0111 - val_accuracy: 0.9985\n",
      "Epoch 16/60\n",
      "21/21 [==============================] - 0s 3ms/step - loss: 0.0061 - accuracy: 0.9998 - val_loss: 0.0104 - val_accuracy: 0.9985\n",
      "Epoch 17/60\n",
      "21/21 [==============================] - 0s 3ms/step - loss: 0.0055 - accuracy: 0.9998 - val_loss: 0.0098 - val_accuracy: 0.9985\n",
      "Epoch 18/60\n",
      "21/21 [==============================] - 0s 3ms/step - loss: 0.0050 - accuracy: 0.9998 - val_loss: 0.0093 - val_accuracy: 0.9985\n",
      "Epoch 19/60\n",
      "21/21 [==============================] - 0s 3ms/step - loss: 0.0045 - accuracy: 0.9998 - val_loss: 0.0088 - val_accuracy: 0.9985\n",
      "Epoch 20/60\n",
      "21/21 [==============================] - 0s 3ms/step - loss: 0.0042 - accuracy: 0.9998 - val_loss: 0.0084 - val_accuracy: 0.9985\n",
      "Epoch 21/60\n",
      "21/21 [==============================] - 0s 3ms/step - loss: 0.0038 - accuracy: 0.9998 - val_loss: 0.0079 - val_accuracy: 0.9985\n",
      "Epoch 22/60\n",
      "21/21 [==============================] - 0s 4ms/step - loss: 0.0035 - accuracy: 0.9998 - val_loss: 0.0075 - val_accuracy: 0.9985\n",
      "Epoch 23/60\n",
      "21/21 [==============================] - 0s 3ms/step - loss: 0.0033 - accuracy: 0.9998 - val_loss: 0.0072 - val_accuracy: 0.9985\n",
      "Epoch 24/60\n",
      "21/21 [==============================] - 0s 3ms/step - loss: 0.0030 - accuracy: 0.9998 - val_loss: 0.0068 - val_accuracy: 0.9985\n",
      "Epoch 25/60\n",
      "21/21 [==============================] - 0s 3ms/step - loss: 0.0028 - accuracy: 0.9998 - val_loss: 0.0065 - val_accuracy: 0.9985\n",
      "Epoch 26/60\n",
      "21/21 [==============================] - 0s 3ms/step - loss: 0.0027 - accuracy: 0.9998 - val_loss: 0.0062 - val_accuracy: 0.9985\n",
      "Epoch 27/60\n",
      "21/21 [==============================] - 0s 3ms/step - loss: 0.0025 - accuracy: 0.9998 - val_loss: 0.0059 - val_accuracy: 0.9985\n",
      "Epoch 28/60\n",
      "21/21 [==============================] - 0s 4ms/step - loss: 0.0023 - accuracy: 0.9998 - val_loss: 0.0057 - val_accuracy: 0.9985\n",
      "Epoch 29/60\n",
      "21/21 [==============================] - 0s 3ms/step - loss: 0.0022 - accuracy: 0.9998 - val_loss: 0.0054 - val_accuracy: 0.9985\n",
      "Epoch 30/60\n",
      "21/21 [==============================] - 0s 3ms/step - loss: 0.0021 - accuracy: 0.9998 - val_loss: 0.0051 - val_accuracy: 0.9985\n",
      "Epoch 31/60\n",
      "21/21 [==============================] - 0s 3ms/step - loss: 0.0019 - accuracy: 0.9998 - val_loss: 0.0048 - val_accuracy: 0.9985\n",
      "Epoch 32/60\n",
      "21/21 [==============================] - 0s 3ms/step - loss: 0.0018 - accuracy: 0.9998 - val_loss: 0.0045 - val_accuracy: 0.9985\n",
      "Epoch 33/60\n",
      "21/21 [==============================] - 0s 3ms/step - loss: 0.0017 - accuracy: 0.9998 - val_loss: 0.0045 - val_accuracy: 0.9985\n",
      "Epoch 34/60\n",
      "21/21 [==============================] - 0s 3ms/step - loss: 0.0016 - accuracy: 0.9998 - val_loss: 0.0042 - val_accuracy: 0.9985\n",
      "Epoch 35/60\n",
      "21/21 [==============================] - 0s 3ms/step - loss: 0.0015 - accuracy: 0.9998 - val_loss: 0.0039 - val_accuracy: 0.9985\n",
      "Epoch 36/60\n",
      "21/21 [==============================] - 0s 4ms/step - loss: 0.0014 - accuracy: 0.9998 - val_loss: 0.0037 - val_accuracy: 0.9985\n",
      "Epoch 37/60\n",
      "21/21 [==============================] - 0s 4ms/step - loss: 0.0014 - accuracy: 0.9998 - val_loss: 0.0035 - val_accuracy: 0.9985\n",
      "Epoch 38/60\n",
      "21/21 [==============================] - 0s 3ms/step - loss: 0.0013 - accuracy: 0.9998 - val_loss: 0.0033 - val_accuracy: 0.9985\n",
      "Epoch 39/60\n",
      "21/21 [==============================] - 0s 3ms/step - loss: 0.0012 - accuracy: 0.9998 - val_loss: 0.0031 - val_accuracy: 0.9985\n",
      "Epoch 40/60\n",
      "21/21 [==============================] - 0s 3ms/step - loss: 0.0012 - accuracy: 0.9998 - val_loss: 0.0029 - val_accuracy: 0.9985\n",
      "Epoch 41/60\n",
      "21/21 [==============================] - 0s 3ms/step - loss: 0.0011 - accuracy: 0.9998 - val_loss: 0.0028 - val_accuracy: 0.9985\n",
      "Epoch 42/60\n",
      "21/21 [==============================] - 0s 3ms/step - loss: 0.0011 - accuracy: 0.9998 - val_loss: 0.0027 - val_accuracy: 0.9985\n",
      "Epoch 43/60\n",
      "21/21 [==============================] - 0s 3ms/step - loss: 0.0010 - accuracy: 1.0000 - val_loss: 0.0022 - val_accuracy: 0.9985\n",
      "Epoch 44/60\n",
      "21/21 [==============================] - 0s 4ms/step - loss: 9.5150e-04 - accuracy: 1.0000 - val_loss: 0.0021 - val_accuracy: 0.9992\n",
      "Epoch 45/60\n",
      "21/21 [==============================] - 0s 3ms/step - loss: 9.0578e-04 - accuracy: 1.0000 - val_loss: 0.0020 - val_accuracy: 0.9992\n",
      "Epoch 46/60\n",
      "21/21 [==============================] - 0s 3ms/step - loss: 8.6696e-04 - accuracy: 1.0000 - val_loss: 0.0020 - val_accuracy: 0.9992\n",
      "Epoch 47/60\n",
      "21/21 [==============================] - 0s 4ms/step - loss: 8.3008e-04 - accuracy: 1.0000 - val_loss: 0.0019 - val_accuracy: 0.9992\n",
      "Epoch 48/60\n",
      "21/21 [==============================] - 0s 4ms/step - loss: 7.9413e-04 - accuracy: 1.0000 - val_loss: 0.0019 - val_accuracy: 0.9992\n",
      "Epoch 49/60\n",
      "21/21 [==============================] - 0s 4ms/step - loss: 7.6220e-04 - accuracy: 1.0000 - val_loss: 0.0017 - val_accuracy: 0.9992\n",
      "Epoch 50/60\n",
      "21/21 [==============================] - 0s 3ms/step - loss: 7.3066e-04 - accuracy: 1.0000 - val_loss: 0.0017 - val_accuracy: 0.9992\n",
      "Epoch 51/60\n",
      "21/21 [==============================] - 0s 4ms/step - loss: 7.0168e-04 - accuracy: 1.0000 - val_loss: 0.0016 - val_accuracy: 0.9992\n",
      "Epoch 52/60\n",
      "21/21 [==============================] - 0s 4ms/step - loss: 6.7466e-04 - accuracy: 1.0000 - val_loss: 0.0015 - val_accuracy: 1.0000\n",
      "Epoch 53/60\n",
      "21/21 [==============================] - 0s 3ms/step - loss: 6.4764e-04 - accuracy: 1.0000 - val_loss: 0.0015 - val_accuracy: 1.0000\n",
      "Epoch 54/60\n",
      "21/21 [==============================] - 0s 4ms/step - loss: 6.2300e-04 - accuracy: 1.0000 - val_loss: 0.0014 - val_accuracy: 1.0000\n",
      "Epoch 55/60\n",
      "21/21 [==============================] - 0s 4ms/step - loss: 5.9946e-04 - accuracy: 1.0000 - val_loss: 0.0014 - val_accuracy: 1.0000\n",
      "Epoch 56/60\n",
      "21/21 [==============================] - 0s 3ms/step - loss: 5.7747e-04 - accuracy: 1.0000 - val_loss: 0.0014 - val_accuracy: 1.0000\n",
      "Epoch 57/60\n",
      "21/21 [==============================] - 0s 3ms/step - loss: 5.5646e-04 - accuracy: 1.0000 - val_loss: 0.0013 - val_accuracy: 1.0000\n",
      "Epoch 58/60\n",
      "21/21 [==============================] - 0s 3ms/step - loss: 5.3633e-04 - accuracy: 1.0000 - val_loss: 0.0012 - val_accuracy: 1.0000\n",
      "Epoch 59/60\n",
      "21/21 [==============================] - 0s 4ms/step - loss: 5.1806e-04 - accuracy: 1.0000 - val_loss: 0.0012 - val_accuracy: 1.0000\n",
      "Epoch 60/60\n",
      "21/21 [==============================] - 0s 4ms/step - loss: 5.0034e-04 - accuracy: 1.0000 - val_loss: 0.0011 - val_accuracy: 1.0000\n"
     ]
    }
   ],
   "source": [
    "history = model0.fit(X_train_sc, y_train, batch_size = 256, epochs = 60, validation_split = 0.2)"
   ]
  },
  {
   "cell_type": "code",
   "execution_count": 32,
   "metadata": {},
   "outputs": [
    {
     "data": {
      "image/png": "[encoded data removed]",
      "text/plain": [
       "<Figure size 640x480 with 1 Axes>"
      ]
     },
     "metadata": {},
     "output_type": "display_data"
    }
   ],
   "source": [
    "plt.plot(history.history[\"loss\"])\n",
    "plt.plot(history.history[\"val_loss\"])\n",
    "plt.title(\"model loss\")\n",
    "plt.ylabel(\"loss\")\n",
    "plt.xlabel(\"epoch\")\n",
    "plt.legend([\"train\",\"test\"], loc = \"upper right\")\n",
    "plt.show()"
   ]
  },
  {
   "cell_type": "markdown",
   "metadata": {},
   "source": [
    "Hormis avant 5 epoch où la courbe test est sous le train, elle est superposée à celle du train, ce qui nous indique que le modèle à bien appris du train et arrive à bien prédire les valeurs du test."
   ]
  },
  {
   "cell_type": "markdown",
   "metadata": {},
   "source": [
    "Nous allons mesurer la performance du réseau de neurones à l'aide d'une matrice de confusion et une courbe AUC."
   ]
  },
  {
   "cell_type": "code",
   "execution_count": 36,
   "metadata": {},
   "outputs": [
    {
     "name": "stdout",
     "output_type": "stream",
     "text": [
      "51/51 [==============================] - 0s 975us/step\n"
     ]
    },
    {
     "data": {
      "image/png": "[encoded data removed]",
      "text/plain": [
       "<Figure size 600x600 with 1 Axes>"
      ]
     },
     "metadata": {},
     "output_type": "display_data"
    },
    {
     "name": "stdout",
     "output_type": "stream",
     "text": [
      "Rapport de classification:\n",
      "              precision    recall  f1-score   support\n",
      "\n",
      "           0       1.00      1.00      1.00       843\n",
      "           1       1.00      1.00      1.00       782\n",
      "\n",
      "    accuracy                           1.00      1625\n",
      "   macro avg       1.00      1.00      1.00      1625\n",
      "weighted avg       1.00      1.00      1.00      1625\n",
      "\n"
     ]
    }
   ],
   "source": [
    "y_pred = (model0.predict(X_test_sc) > 0.5).astype(\"int32\")\n",
    "#On a pris un threshold de 0.5 mais on le verra avec la courbe de ROC que les résultats sont \n",
    "#identiques quelque soit cette valeur (sauf pour 0 et 1 évidemment)\n",
    "\n",
    "# Créer la matrice de confusion\n",
    "conf_matrix = confusion_matrix(y_test, y_pred)\n",
    "\n",
    "# Afficher la matrice de confusion sous forme de heatmap\n",
    "plt.figure(figsize=(6, 6))\n",
    "sns.heatmap(conf_matrix, annot=True, fmt='d', cmap='Blues', cbar=False,\n",
    "            xticklabels=['Prédiction 0', 'Prédiction 1'],\n",
    "            yticklabels=['Réel 0', 'Réel 1'])\n",
    "plt.xlabel('Prédiction')\n",
    "plt.ylabel('Réel')\n",
    "plt.title('Matrice de confusion')\n",
    "plt.show()\n",
    "\n",
    "# Afficher le rapport de classification\n",
    "print(\"Rapport de classification:\")\n",
    "print(classification_report(y_test, y_pred))"
   ]
  },
  {
   "cell_type": "markdown",
   "metadata": {},
   "source": [
    "La matrice de corrélation nous montre que le réseau de neurones à parfaitement prédit les valeurs du x_test. Avec la fonction d'activation sigmoid, le modèle donne une probabilité d'être un champignon venimeux. On a choisit que si cette probabilité était inférieure à 0.5, alors le modèle doit le classer comme un champignon comestible. Nous allons voir avec la courbe AUC que, quelque soit cette valeur (hormis 0 et 1), les prédictions auraient été les mêmes, ce qui montre que le modèle est robuste."
   ]
  },
  {
   "cell_type": "code",
   "execution_count": 37,
   "metadata": {},
   "outputs": [
    {
     "name": "stdout",
     "output_type": "stream",
     "text": [
      "51/51 [==============================] - 0s 2ms/step\n"
     ]
    },
    {
     "data": {
      "image/png": "[encoded data removed]",
      "text/plain": [
       "<Figure size 800x800 with 1 Axes>"
      ]
     },
     "metadata": {},
     "output_type": "display_data"
    }
   ],
   "source": [
    "from sklearn.metrics import roc_curve, auc, roc_auc_score\n",
    "\n",
    "y_pred = model0.predict(X_test_sc)\n",
    "fpr, tpr, thresholds = roc_curve(y_test, y_pred)\n",
    "roc_auc = auc(fpr, tpr)\n",
    "\n",
    "fpr_inverse = 1 - fpr\n",
    "\n",
    "# Tracer la courbe ROC inversée\n",
    "plt.figure(figsize=(8, 8))\n",
    "plt.plot(tpr, fpr_inverse, color='darkorange', lw=2, label='Courbe de ROC (aire = {:.2f})'.format(roc_auc))\n",
    "plt.xlim([0.0, 1.0])\n",
    "plt.ylim([0.0, 1.05])\n",
    "plt.xlabel('Taux de vrais positifs')\n",
    "plt.ylabel('Taux de vrais négatifs')\n",
    "plt.title('Aire sous la courbe de ROC')\n",
    "plt.legend(loc=\"lower right\")\n",
    "plt.show()"
   ]
  },
  {
   "cell_type": "markdown",
   "metadata": {},
   "source": [
    "La courbe de ROC nous donne un compromis entre Spécificité et Sensibilité. Nous pouvons voir que l'aire sous la courbe est maximale, ce qui signifie que le modèle distingue partaiement les champignons venimeux et comestibles."
   ]
  },
  {
   "cell_type": "markdown",
   "metadata": {},
   "source": [
    "## VI) Support Vecteur Machine"
   ]
  },
  {
   "cell_type": "markdown",
   "metadata": {},
   "source": [
    "Nous allons ici utiliser des modèles pour essayer de séparer linéairement les données. On utilisera 4 modèles différents."
   ]
  },
  {
   "cell_type": "code",
   "execution_count": 38,
   "metadata": {},
   "outputs": [
    {
     "name": "stderr",
     "output_type": "stream",
     "text": [
      "c:\\Users\\mathi\\anaconda3\\envs\\svm_01\\Lib\\site-packages\\sklearn\\svm\\_classes.py:32: FutureWarning:\n",
      "\n",
      "The default value of `dual` will change from `True` to `'auto'` in 1.5. Set the value of `dual` explicitly to suppress the warning.\n",
      "\n"
     ]
    },
    {
     "data": {
      "text/html": [
       "<style>#sk-container-id-1 {color: black;}#sk-container-id-1 pre{padding: 0;}#sk-container-id-1 div.sk-toggleable {background-color: white;}#sk-container-id-1 label.sk-toggleable__label {cursor: pointer;display: block;width: 100%;margin-bottom: 0;padding: 0.3em;box-sizing: border-box;text-align: center;}#sk-container-id-1 label.sk-toggleable__label-arrow:before {content: \"▸\";float: left;margin-right: 0.25em;color: #696969;}#sk-container-id-1 label.sk-toggleable__label-arrow:hover:before {color: black;}#sk-container-id-1 div.sk-estimator:hover label.sk-toggleable__label-arrow:before {color: black;}#sk-container-id-1 div.sk-toggleable__content {max-height: 0;max-width: 0;overflow: hidden;text-align: left;background-color: #f0f8ff;}#sk-container-id-1 div.sk-toggleable__content pre {margin: 0.2em;color: black;border-radius: 0.25em;background-color: #f0f8ff;}#sk-container-id-1 input.sk-toggleable__control:checked~div.sk-toggleable__content {max-height: 200px;max-width: 100%;overflow: auto;}#sk-container-id-1 input.sk-toggleable__control:checked~label.sk-toggleable__label-arrow:before {content: \"▾\";}#sk-container-id-1 div.sk-estimator input.sk-toggleable__control:checked~label.sk-toggleable__label {background-color: #d4ebff;}#sk-container-id-1 div.sk-label input.sk-toggleable__control:checked~label.sk-toggleable__label {background-color: #d4ebff;}#sk-container-id-1 input.sk-hidden--visually {border: 0;clip: rect(1px 1px 1px 1px);clip: rect(1px, 1px, 1px, 1px);height: 1px;margin: -1px;overflow: hidden;padding: 0;position: absolute;width: 1px;}#sk-container-id-1 div.sk-estimator {font-family: monospace;background-color: #f0f8ff;border: 1px dotted black;border-radius: 0.25em;box-sizing: border-box;margin-bottom: 0.5em;}#sk-container-id-1 div.sk-estimator:hover {background-color: #d4ebff;}#sk-container-id-1 div.sk-parallel-item::after {content: \"\";width: 100%;border-bottom: 1px solid gray;flex-grow: 1;}#sk-container-id-1 div.sk-label:hover label.sk-toggleable__label {background-color: #d4ebff;}#sk-container-id-1 div.sk-serial::before {content: \"\";position: absolute;border-left: 1px solid gray;box-sizing: border-box;top: 0;bottom: 0;left: 50%;z-index: 0;}#sk-container-id-1 div.sk-serial {display: flex;flex-direction: column;align-items: center;background-color: white;padding-right: 0.2em;padding-left: 0.2em;position: relative;}#sk-container-id-1 div.sk-item {position: relative;z-index: 1;}#sk-container-id-1 div.sk-parallel {display: flex;align-items: stretch;justify-content: center;background-color: white;position: relative;}#sk-container-id-1 div.sk-item::before, #sk-container-id-1 div.sk-parallel-item::before {content: \"\";position: absolute;border-left: 1px solid gray;box-sizing: border-box;top: 0;bottom: 0;left: 50%;z-index: -1;}#sk-container-id-1 div.sk-parallel-item {display: flex;flex-direction: column;z-index: 1;position: relative;background-color: white;}#sk-container-id-1 div.sk-parallel-item:first-child::after {align-self: flex-end;width: 50%;}#sk-container-id-1 div.sk-parallel-item:last-child::after {align-self: flex-start;width: 50%;}#sk-container-id-1 div.sk-parallel-item:only-child::after {width: 0;}#sk-container-id-1 div.sk-dashed-wrapped {border: 1px dashed gray;margin: 0 0.4em 0.5em 0.4em;box-sizing: border-box;padding-bottom: 0.4em;background-color: white;}#sk-container-id-1 div.sk-label label {font-family: monospace;font-weight: bold;display: inline-block;line-height: 1.2em;}#sk-container-id-1 div.sk-label-container {text-align: center;}#sk-container-id-1 div.sk-container {/* jupyter's `normalize.less` sets `[hidden] { display: none; }` but bootstrap.min.css set `[hidden] { display: none !important; }` so we also need the `!important` here to be able to override the default hidden behavior on the sphinx rendered scikit-learn.org. See: https://github.com/scikit-learn/scikit-learn/issues/21755 */display: inline-block !important;position: relative;}#sk-container-id-1 div.sk-text-repr-fallback {display: none;}</style><div id=\"sk-container-id-1\" class=\"sk-top-container\"><div class=\"sk-text-repr-fallback\"><pre>SGDClassifier(random_state=42)</pre><b>In a Jupyter environment, please rerun this cell to show the HTML representation or trust the notebook. <br />On GitHub, the HTML representation is unable to render, please try loading this page with nbviewer.org.</b></div><div class=\"sk-container\" hidden><div class=\"sk-item\"><div class=\"sk-estimator sk-toggleable\"><input class=\"sk-toggleable__control sk-hidden--visually\" id=\"sk-estimator-id-1\" type=\"checkbox\" checked><label for=\"sk-estimator-id-1\" class=\"sk-toggleable__label sk-toggleable__label-arrow\">SGDClassifier</label><div class=\"sk-toggleable__content\"><pre>SGDClassifier(random_state=42)</pre></div></div></div></div></div>"
      ],
      "text/plain": [
       "SGDClassifier(random_state=42)"
      ]
     },
     "execution_count": 38,
     "metadata": {},
     "output_type": "execute_result"
    }
   ],
   "source": [
    "#Regression logistique\n",
    "lgr = LogisticRegression( random_state=42)\n",
    "lgr.fit(X_train_sc, y_train)\n",
    "\n",
    "#Linear SVM\n",
    "l_SVC = LinearSVC(random_state=42, max_iter=2000)\n",
    "l_SVC.fit(X_train_sc, y_train)\n",
    "\n",
    "#SVM avec kernel\n",
    "svc = SVC(kernel='linear',random_state=42)\n",
    "svc.fit(X_train_sc,y_train)\n",
    "\n",
    "#SGD classifier\n",
    "sgdc_svm = SGDClassifier(loss='hinge' ,random_state=42)\n",
    "sgdc_svm.fit(X_train_sc, y_train)"
   ]
  },
  {
   "cell_type": "code",
   "execution_count": 39,
   "metadata": {},
   "outputs": [
    {
     "name": "stderr",
     "output_type": "stream",
     "text": [
      "c:\\Users\\mathi\\anaconda3\\envs\\svm_01\\Lib\\site-packages\\sklearn\\svm\\_classes.py:32: FutureWarning:\n",
      "\n",
      "The default value of `dual` will change from `True` to `'auto'` in 1.5. Set the value of `dual` explicitly to suppress the warning.\n",
      "\n",
      "c:\\Users\\mathi\\anaconda3\\envs\\svm_01\\Lib\\site-packages\\sklearn\\svm\\_base.py:1250: ConvergenceWarning:\n",
      "\n",
      "Liblinear failed to converge, increase the number of iterations.\n",
      "\n",
      "c:\\Users\\mathi\\anaconda3\\envs\\svm_01\\Lib\\site-packages\\sklearn\\svm\\_classes.py:32: FutureWarning:\n",
      "\n",
      "The default value of `dual` will change from `True` to `'auto'` in 1.5. Set the value of `dual` explicitly to suppress the warning.\n",
      "\n",
      "c:\\Users\\mathi\\anaconda3\\envs\\svm_01\\Lib\\site-packages\\sklearn\\svm\\_classes.py:32: FutureWarning:\n",
      "\n",
      "The default value of `dual` will change from `True` to `'auto'` in 1.5. Set the value of `dual` explicitly to suppress the warning.\n",
      "\n",
      "c:\\Users\\mathi\\anaconda3\\envs\\svm_01\\Lib\\site-packages\\sklearn\\svm\\_classes.py:32: FutureWarning:\n",
      "\n",
      "The default value of `dual` will change from `True` to `'auto'` in 1.5. Set the value of `dual` explicitly to suppress the warning.\n",
      "\n",
      "c:\\Users\\mathi\\anaconda3\\envs\\svm_01\\Lib\\site-packages\\sklearn\\svm\\_classes.py:32: FutureWarning:\n",
      "\n",
      "The default value of `dual` will change from `True` to `'auto'` in 1.5. Set the value of `dual` explicitly to suppress the warning.\n",
      "\n"
     ]
    }
   ],
   "source": [
    "stratified_kfold = StratifiedKFold(n_splits=5, shuffle=True, random_state=42)\n",
    "# On utilise un stratified KFold car cette méthode est plus performante que la cross validation\n",
    "# et respecte la répartition des modlaités de notre variable à expliquer\n",
    "\n",
    "cvs_lgr = cross_val_score(lgr, X_train_sc, y_train, cv=stratified_kfold, scoring='accuracy')\n",
    "cvs_lsvc = cross_val_score(l_SVC, X_train_sc, y_train, cv=stratified_kfold, scoring='accuracy')\n",
    "cvs_svc = cross_val_score(svc, X_train_sc, y_train, cv=stratified_kfold, scoring='accuracy')\n",
    "cvs_sgdc = cross_val_score(sgdc_svm, X_train_sc, y_train, cv=stratified_kfold, scoring='accuracy')"
   ]
  },
  {
   "cell_type": "code",
   "execution_count": 40,
   "metadata": {},
   "outputs": [
    {
     "data": {
      "text/html": [
       "<div>\n",
       "<style scoped>\n",
       "    .dataframe tbody tr th:only-of-type {\n",
       "        vertical-align: middle;\n",
       "    }\n",
       "\n",
       "    .dataframe tbody tr th {\n",
       "        vertical-align: top;\n",
       "    }\n",
       "\n",
       "    .dataframe thead th {\n",
       "        text-align: right;\n",
       "    }\n",
       "</style>\n",
       "<table border=\"1\" class=\"dataframe\">\n",
       "  <thead>\n",
       "    <tr style=\"text-align: right;\">\n",
       "      <th></th>\n",
       "      <th>fold1</th>\n",
       "      <th>fold2</th>\n",
       "      <th>fold3</th>\n",
       "      <th>fold4</th>\n",
       "      <th>fold5</th>\n",
       "      <th>model</th>\n",
       "    </tr>\n",
       "  </thead>\n",
       "  <tbody>\n",
       "    <tr>\n",
       "      <th>0</th>\n",
       "      <td>1.000000</td>\n",
       "      <td>1.0</td>\n",
       "      <td>1.000000</td>\n",
       "      <td>1.0</td>\n",
       "      <td>1.0</td>\n",
       "      <td>lgr</td>\n",
       "    </tr>\n",
       "    <tr>\n",
       "      <th>1</th>\n",
       "      <td>1.000000</td>\n",
       "      <td>1.0</td>\n",
       "      <td>1.000000</td>\n",
       "      <td>1.0</td>\n",
       "      <td>1.0</td>\n",
       "      <td>lsvc</td>\n",
       "    </tr>\n",
       "    <tr>\n",
       "      <th>2</th>\n",
       "      <td>0.997692</td>\n",
       "      <td>1.0</td>\n",
       "      <td>0.998462</td>\n",
       "      <td>1.0</td>\n",
       "      <td>1.0</td>\n",
       "      <td>sgdc</td>\n",
       "    </tr>\n",
       "    <tr>\n",
       "      <th>3</th>\n",
       "      <td>1.000000</td>\n",
       "      <td>1.0</td>\n",
       "      <td>1.000000</td>\n",
       "      <td>1.0</td>\n",
       "      <td>1.0</td>\n",
       "      <td>svc</td>\n",
       "    </tr>\n",
       "  </tbody>\n",
       "</table>\n",
       "</div>"
      ],
      "text/plain": [
       "      fold1  fold2     fold3  fold4  fold5 model\n",
       "0  1.000000    1.0  1.000000    1.0    1.0   lgr\n",
       "1  1.000000    1.0  1.000000    1.0    1.0  lsvc\n",
       "2  0.997692    1.0  0.998462    1.0    1.0  sgdc\n",
       "3  1.000000    1.0  1.000000    1.0    1.0   svc"
      ]
     },
     "execution_count": 40,
     "metadata": {},
     "output_type": "execute_result"
    }
   ],
   "source": [
    "#Get data output from cross_val_score\n",
    "df_cross = pd.DataFrame(np.transpose(np.c_[cvs_lgr,cvs_lsvc,cvs_sgdc,cvs_svc]), \n",
    "                        columns=['fold1','fold2','fold3','fold4','fold5'])\n",
    "#Adding model label\n",
    "df_cross['model'] = ['lgr','lsvc','sgdc','svc']\n",
    "df_cross"
   ]
  },
  {
   "cell_type": "code",
   "execution_count": 41,
   "metadata": {},
   "outputs": [
    {
     "name": "stdout",
     "output_type": "stream",
     "text": [
      "Le modèle n°1 a une accuray de 1.0 et un std : 0.0\n",
      "Le modèle n°2 a une accuray de 1.0 et un std : 0.0\n",
      "Le modèle n°3 a une accuray de 0.9992 et un std : 0.0011\n",
      "Le modèle n°4 a une accuray de 1.0 et un std : 0.0\n"
     ]
    }
   ],
   "source": [
    "for i in range(4):\n",
    "\n",
    "    mean_model = df_cross.iloc[:,0:5].mean(axis=1)[i]\n",
    "    std_model = df_cross.iloc[:,0:5].std(axis=1)[i]\n",
    "    \n",
    "    print('Le modèle n°'+ str(i+1) + ' a une accuray de '  + str(round(mean_model,4)) + ' et un std : ' + str(round(std_model,4)))"
   ]
  },
  {
   "cell_type": "markdown",
   "metadata": {},
   "source": [
    "Les meilleurs modèles sont : la régression logistique, le linear SVM et le SGDC Classifier.\n",
    "Pour la suite, nous nous concentrons sur le modèle SVM linéaire. Nous allons construire une learning curve pour être sûr que le modèle ne sur-apprend pas et pour voir la quantité d'amélioration possible en ajoutant des données."
   ]
  },
  {
   "cell_type": "code",
   "execution_count": 42,
   "metadata": {},
   "outputs": [
    {
     "name": "stderr",
     "output_type": "stream",
     "text": [
      "c:\\Users\\mathi\\anaconda3\\envs\\svm_01\\Lib\\site-packages\\sklearn\\svm\\_classes.py:32: FutureWarning:\n",
      "\n",
      "The default value of `dual` will change from `True` to `'auto'` in 1.5. Set the value of `dual` explicitly to suppress the warning.\n",
      "\n",
      "c:\\Users\\mathi\\anaconda3\\envs\\svm_01\\Lib\\site-packages\\sklearn\\svm\\_classes.py:32: FutureWarning:\n",
      "\n",
      "The default value of `dual` will change from `True` to `'auto'` in 1.5. Set the value of `dual` explicitly to suppress the warning.\n",
      "\n",
      "c:\\Users\\mathi\\anaconda3\\envs\\svm_01\\Lib\\site-packages\\sklearn\\svm\\_classes.py:32: FutureWarning:\n",
      "\n",
      "The default value of `dual` will change from `True` to `'auto'` in 1.5. Set the value of `dual` explicitly to suppress the warning.\n",
      "\n",
      "c:\\Users\\mathi\\anaconda3\\envs\\svm_01\\Lib\\site-packages\\sklearn\\svm\\_base.py:1250: ConvergenceWarning:\n",
      "\n",
      "Liblinear failed to converge, increase the number of iterations.\n",
      "\n",
      "c:\\Users\\mathi\\anaconda3\\envs\\svm_01\\Lib\\site-packages\\sklearn\\svm\\_classes.py:32: FutureWarning:\n",
      "\n",
      "The default value of `dual` will change from `True` to `'auto'` in 1.5. Set the value of `dual` explicitly to suppress the warning.\n",
      "\n",
      "c:\\Users\\mathi\\anaconda3\\envs\\svm_01\\Lib\\site-packages\\sklearn\\svm\\_base.py:1250: ConvergenceWarning:\n",
      "\n",
      "Liblinear failed to converge, increase the number of iterations.\n",
      "\n",
      "c:\\Users\\mathi\\anaconda3\\envs\\svm_01\\Lib\\site-packages\\sklearn\\svm\\_classes.py:32: FutureWarning:\n",
      "\n",
      "The default value of `dual` will change from `True` to `'auto'` in 1.5. Set the value of `dual` explicitly to suppress the warning.\n",
      "\n",
      "c:\\Users\\mathi\\anaconda3\\envs\\svm_01\\Lib\\site-packages\\sklearn\\svm\\_base.py:1250: ConvergenceWarning:\n",
      "\n",
      "Liblinear failed to converge, increase the number of iterations.\n",
      "\n",
      "c:\\Users\\mathi\\anaconda3\\envs\\svm_01\\Lib\\site-packages\\sklearn\\svm\\_classes.py:32: FutureWarning:\n",
      "\n",
      "The default value of `dual` will change from `True` to `'auto'` in 1.5. Set the value of `dual` explicitly to suppress the warning.\n",
      "\n",
      "c:\\Users\\mathi\\anaconda3\\envs\\svm_01\\Lib\\site-packages\\sklearn\\svm\\_classes.py:32: FutureWarning:\n",
      "\n",
      "The default value of `dual` will change from `True` to `'auto'` in 1.5. Set the value of `dual` explicitly to suppress the warning.\n",
      "\n",
      "c:\\Users\\mathi\\anaconda3\\envs\\svm_01\\Lib\\site-packages\\sklearn\\svm\\_classes.py:32: FutureWarning:\n",
      "\n",
      "The default value of `dual` will change from `True` to `'auto'` in 1.5. Set the value of `dual` explicitly to suppress the warning.\n",
      "\n",
      "c:\\Users\\mathi\\anaconda3\\envs\\svm_01\\Lib\\site-packages\\sklearn\\svm\\_classes.py:32: FutureWarning:\n",
      "\n",
      "The default value of `dual` will change from `True` to `'auto'` in 1.5. Set the value of `dual` explicitly to suppress the warning.\n",
      "\n",
      "c:\\Users\\mathi\\anaconda3\\envs\\svm_01\\Lib\\site-packages\\sklearn\\svm\\_classes.py:32: FutureWarning:\n",
      "\n",
      "The default value of `dual` will change from `True` to `'auto'` in 1.5. Set the value of `dual` explicitly to suppress the warning.\n",
      "\n",
      "c:\\Users\\mathi\\anaconda3\\envs\\svm_01\\Lib\\site-packages\\sklearn\\svm\\_classes.py:32: FutureWarning:\n",
      "\n",
      "The default value of `dual` will change from `True` to `'auto'` in 1.5. Set the value of `dual` explicitly to suppress the warning.\n",
      "\n",
      "c:\\Users\\mathi\\anaconda3\\envs\\svm_01\\Lib\\site-packages\\sklearn\\svm\\_classes.py:32: FutureWarning:\n",
      "\n",
      "The default value of `dual` will change from `True` to `'auto'` in 1.5. Set the value of `dual` explicitly to suppress the warning.\n",
      "\n",
      "c:\\Users\\mathi\\anaconda3\\envs\\svm_01\\Lib\\site-packages\\sklearn\\svm\\_classes.py:32: FutureWarning:\n",
      "\n",
      "The default value of `dual` will change from `True` to `'auto'` in 1.5. Set the value of `dual` explicitly to suppress the warning.\n",
      "\n",
      "c:\\Users\\mathi\\anaconda3\\envs\\svm_01\\Lib\\site-packages\\sklearn\\svm\\_base.py:1250: ConvergenceWarning:\n",
      "\n",
      "Liblinear failed to converge, increase the number of iterations.\n",
      "\n",
      "c:\\Users\\mathi\\anaconda3\\envs\\svm_01\\Lib\\site-packages\\sklearn\\svm\\_classes.py:32: FutureWarning:\n",
      "\n",
      "The default value of `dual` will change from `True` to `'auto'` in 1.5. Set the value of `dual` explicitly to suppress the warning.\n",
      "\n",
      "c:\\Users\\mathi\\anaconda3\\envs\\svm_01\\Lib\\site-packages\\sklearn\\svm\\_classes.py:32: FutureWarning:\n",
      "\n",
      "The default value of `dual` will change from `True` to `'auto'` in 1.5. Set the value of `dual` explicitly to suppress the warning.\n",
      "\n",
      "c:\\Users\\mathi\\anaconda3\\envs\\svm_01\\Lib\\site-packages\\sklearn\\svm\\_classes.py:32: FutureWarning:\n",
      "\n",
      "The default value of `dual` will change from `True` to `'auto'` in 1.5. Set the value of `dual` explicitly to suppress the warning.\n",
      "\n",
      "c:\\Users\\mathi\\anaconda3\\envs\\svm_01\\Lib\\site-packages\\sklearn\\svm\\_classes.py:32: FutureWarning:\n",
      "\n",
      "The default value of `dual` will change from `True` to `'auto'` in 1.5. Set the value of `dual` explicitly to suppress the warning.\n",
      "\n",
      "c:\\Users\\mathi\\anaconda3\\envs\\svm_01\\Lib\\site-packages\\sklearn\\svm\\_classes.py:32: FutureWarning:\n",
      "\n",
      "The default value of `dual` will change from `True` to `'auto'` in 1.5. Set the value of `dual` explicitly to suppress the warning.\n",
      "\n",
      "c:\\Users\\mathi\\anaconda3\\envs\\svm_01\\Lib\\site-packages\\sklearn\\svm\\_classes.py:32: FutureWarning:\n",
      "\n",
      "The default value of `dual` will change from `True` to `'auto'` in 1.5. Set the value of `dual` explicitly to suppress the warning.\n",
      "\n",
      "c:\\Users\\mathi\\anaconda3\\envs\\svm_01\\Lib\\site-packages\\sklearn\\svm\\_classes.py:32: FutureWarning:\n",
      "\n",
      "The default value of `dual` will change from `True` to `'auto'` in 1.5. Set the value of `dual` explicitly to suppress the warning.\n",
      "\n",
      "c:\\Users\\mathi\\anaconda3\\envs\\svm_01\\Lib\\site-packages\\sklearn\\svm\\_classes.py:32: FutureWarning:\n",
      "\n",
      "The default value of `dual` will change from `True` to `'auto'` in 1.5. Set the value of `dual` explicitly to suppress the warning.\n",
      "\n",
      "c:\\Users\\mathi\\anaconda3\\envs\\svm_01\\Lib\\site-packages\\sklearn\\svm\\_classes.py:32: FutureWarning:\n",
      "\n",
      "The default value of `dual` will change from `True` to `'auto'` in 1.5. Set the value of `dual` explicitly to suppress the warning.\n",
      "\n",
      "c:\\Users\\mathi\\anaconda3\\envs\\svm_01\\Lib\\site-packages\\sklearn\\svm\\_classes.py:32: FutureWarning:\n",
      "\n",
      "The default value of `dual` will change from `True` to `'auto'` in 1.5. Set the value of `dual` explicitly to suppress the warning.\n",
      "\n",
      "c:\\Users\\mathi\\anaconda3\\envs\\svm_01\\Lib\\site-packages\\sklearn\\svm\\_classes.py:32: FutureWarning:\n",
      "\n",
      "The default value of `dual` will change from `True` to `'auto'` in 1.5. Set the value of `dual` explicitly to suppress the warning.\n",
      "\n",
      "c:\\Users\\mathi\\anaconda3\\envs\\svm_01\\Lib\\site-packages\\sklearn\\svm\\_classes.py:32: FutureWarning:\n",
      "\n",
      "The default value of `dual` will change from `True` to `'auto'` in 1.5. Set the value of `dual` explicitly to suppress the warning.\n",
      "\n"
     ]
    },
    {
     "data": {
      "image/png": "[encoded data removed]",
      "text/plain": [
       "<Figure size 640x480 with 1 Axes>"
      ]
     },
     "metadata": {},
     "output_type": "display_data"
    }
   ],
   "source": [
    "train_sizes, train_scores, test_scores = learning_curve(estimator=l_SVC, \n",
    "                                                        X=X_train_sc, \n",
    "                                                        y=y_train,\n",
    "                                                        cv=stratified_kfold, \n",
    "                                                        train_sizes=np.linspace(0.1, 1.0, 5),\n",
    "                                                        random_state=42\n",
    "                                                       )\n",
    "\n",
    "\n",
    "train_mean = np.mean(train_scores, axis=1)\n",
    "train_std = np.std(train_scores, axis=1)\n",
    "test_mean = np.mean(test_scores, axis=1)\n",
    "test_std = np.std(test_scores, axis=1)\n",
    "#\n",
    "# Plot the learning curve\n",
    "#\n",
    "plt.plot(train_sizes, train_mean, color='blue', marker='o', markersize=5, label='Training Accuracy')\n",
    "plt.fill_between(train_sizes, train_mean + train_std, train_mean - train_std, alpha=0.15, color='blue')\n",
    "plt.plot(train_sizes, test_mean, color='green', marker='+', markersize=5, linestyle='--', label='Validation Accuracy')\n",
    "plt.fill_between(train_sizes, test_mean + test_std, test_mean - test_std, alpha=0.15, color='green')\n",
    "plt.title('Learning Curve')\n",
    "plt.xlabel('Training Data Size')\n",
    "plt.ylabel('Model accuracy')\n",
    "plt.grid()\n",
    "plt.legend(loc='lower right')\n",
    "plt.show()"
   ]
  },
  {
   "cell_type": "markdown",
   "metadata": {},
   "source": [
    "Nous pouvons constater que même sur des données qu'il n'a jamais vu, le modèle s'adapte très bien aux données (à partir de 1800 données voire même dès 500 données), ce qui est très positif. Le modèle ne sur-apprend pas. Nous pouvons dès à présent faire un graphique pour voir l'importance desvariables dans le modèle."
   ]
  },
  {
   "cell_type": "code",
   "execution_count": 43,
   "metadata": {},
   "outputs": [
    {
     "data": {
      "image/png": "[encoded data removed]",
      "text/plain": [
       "<Figure size 1200x1500 with 1 Axes>"
      ]
     },
     "metadata": {},
     "output_type": "display_data"
    }
   ],
   "source": [
    "features_names = X.columns\n",
    "plt.figure(figsize=(12, 15))\n",
    "plt.title('Influence des paramètres sur le modèle linear SVM')\n",
    "plt.xlabel('Valeur des coéfficients')\n",
    "svm_f_importances(l_SVC.coef_[0], features_names)"
   ]
  },
  {
   "cell_type": "markdown",
   "metadata": {},
   "source": [
    "Les variables qui ont un fort impact (positif) sur le modèle sont : l'odeur (créosote, piquant ou aucune), la population (regroupée) et la couleur de l'impression des spores (jaune, vert, chocolat). \n",
    "A l'inverse, les variables qui ont le plus d'importance de manière négative sont : si l'habitat est considéré comme déchet, si la racine est ancrée ou si la couleur de l'impression des spores est marron ou noire."
   ]
  },
  {
   "cell_type": "markdown",
   "metadata": {},
   "source": [
    "## VII) Conclusion"
   ]
  },
  {
   "cell_type": "markdown",
   "metadata": {},
   "source": [
    "Afin de prédire la comestibilité de champignons, nous avons utilisé différentes méthodes de Machine Learning comme l'arbre de décision ou la forêt aléatoire. Nous avons comparé ces méthodes à un réseau de neurones et à un SVM. De part la base de données, il s'est avéré qu'un simple arbre de décision était suffiant pour prédire la comestibilité des champignons. Il n'a donc pas été nécessaire de faire des réseaux de neurones très profond ou d'utiliser des SVM non linéaires."
   ]
  }
 ],
 "metadata": {
  "kernelspec": {
   "display_name": "svm_01",
   "language": "python",
   "name": "python3"
  },
  "language_info": {
   "codemirror_mode": {
    "name": "ipython",
    "version": 3
   },
   "file_extension": ".py",
   "mimetype": "text/x-python",
   "name": "python",
   "nbconvert_exporter": "python",
   "pygments_lexer": "ipython3",
   "version": "3.11.5"
  }
 },
 "nbformat": 4,
 "nbformat_minor": 2
}
